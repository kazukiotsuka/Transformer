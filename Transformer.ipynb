{
 "cells": [
  {
   "cell_type": "markdown",
   "metadata": {},
   "source": [
    "### The Transformer - calculation of the model"
   ]
  },
  {
   "cell_type": "markdown",
   "metadata": {},
   "source": [
    "#### Multi-Head Attention Calculation\n",
    "\n",
    "Vaswani et al.「Attention Is All You Need」  \n",
    "https://papers.nips.cc/paper/7181-attention-is-all-you-need.pdf"
   ]
  },
  {
   "cell_type": "markdown",
   "metadata": {},
   "source": [
    "#### 3.2.1 Scaled Dot-product Attention"
   ]
  },
  {
   "cell_type": "markdown",
   "metadata": {},
   "source": [
    "$ Q \\in \\mathbb{R}^{d_{model}} $, $K \\in \\mathbb{R}^{d_{model}} $, $V \\in \\mathbb{R}^{d_{model}} $"
   ]
  },
  {
   "cell_type": "markdown",
   "metadata": {},
   "source": [
    "$ Attention(Q,K,V) = softmax(\\frac{QK^T}{\\sqrt{d_k}})V $"
   ]
  },
  {
   "cell_type": "code",
   "execution_count": 1,
   "metadata": {},
   "outputs": [],
   "source": [
    "import torch\n",
    "import numpy as np\n",
    "import math\n",
    "import matplotlib.pyplot as plt\n",
    "import seaborn as sns"
   ]
  },
  {
   "cell_type": "code",
   "execution_count": 2,
   "metadata": {},
   "outputs": [],
   "source": [
    "batch = 3\n",
    "h = parallel = 4\n",
    "dmodel = 512  # embed size\n",
    "dk = dv = int(dmodel/h)  # input / output length 512/8 = 64\n",
    "vocab_size = 100"
   ]
  },
  {
   "cell_type": "markdown",
   "metadata": {},
   "source": [
    "input sequence X, output sequence Y"
   ]
  },
  {
   "cell_type": "code",
   "execution_count": 3,
   "metadata": {},
   "outputs": [
    {
     "data": {
      "text/plain": [
       "(tensor([[52, 19, 51, 18, 12, 94, 88, 59, 86,  8, 42,  1, 31, 66, 35, 19, 68, 59,\n",
       "          53, 39, 51, 83, 85, 13, 22, 86, 41, 76, 37, 84, 52, 36, 27, 48, 65, 80,\n",
       "          77, 39, 28, 75, 29, 82, 31, 76, 34, 99, 55, 89, 18, 82, 96, 84, 18, 31,\n",
       "          29, 74,  9, 84, 63, 18, 19, 61, 88, 30, 13, 52, 25, 71,  1, 40, 33, 87,\n",
       "          77,  0, 96, 30, 35, 53, 76, 31, 44, 90, 11, 63, 12, 62, 95, 42, 62, 79,\n",
       "          11, 79, 22, 74, 11, 86, 36, 90, 20, 92, 38,  2, 38, 14, 19, 95, 66,  3,\n",
       "          58, 60, 84, 58, 37, 76, 11, 62, 81, 36, 47, 97, 13,  1, 64, 93, 39, 28,\n",
       "          73, 18],\n",
       "         [ 8, 60, 64, 19, 52, 78, 10, 76, 39, 16, 27, 75, 89, 39, 94, 42, 45, 57,\n",
       "          13, 63, 56, 14, 76, 79, 73, 92, 92, 40, 94, 50, 69, 98, 71, 36, 45, 89,\n",
       "          55, 12, 70, 44, 30, 24, 11, 27, 20, 92, 54, 46, 54, 82, 96, 78, 57, 46,\n",
       "          91, 33, 24, 83, 61, 60, 35, 13, 66, 77,  7, 36, 87, 30, 81,  1, 33, 44,\n",
       "          42, 21, 39, 48, 49, 37, 34, 76, 50, 48, 23,  8, 16, 42, 76, 29,  1, 16,\n",
       "          93, 60, 73, 49, 21, 73, 30, 42, 95, 73, 26, 82,  7, 87, 49, 21, 76, 96,\n",
       "          99, 42, 40, 40,  6, 51, 21, 20, 72, 38, 17, 79, 75, 92, 33, 12, 65, 25,\n",
       "          25, 60],\n",
       "         [56, 39, 11, 55,  0, 37, 52, 61, 58, 72, 66,  4, 98, 11, 35, 97,  7,  7,\n",
       "          35, 75, 23, 76,  9, 15, 27, 33, 26, 23, 48, 69, 25, 77, 35, 98,  4, 33,\n",
       "          61, 47,  7, 95, 65, 60, 28,  7, 81, 34, 72, 74, 75, 42, 28, 61, 90, 52,\n",
       "           3, 28, 39, 10, 80, 76, 81, 62, 26,  1,  0, 80, 36,  7, 76, 23, 58, 89,\n",
       "          93, 50, 47, 57, 47, 42, 26, 88, 29, 39, 84, 21, 67,  0, 22, 35, 14, 86,\n",
       "          23, 86, 64, 62,  0, 50, 73, 22, 83, 77, 98, 99, 40,  2, 56, 82, 43,  8,\n",
       "          92, 63, 51, 84,  7, 95, 28,  8, 24, 78, 84, 76, 28, 59, 60, 21, 24, 84,\n",
       "          79, 36]]), torch.Size([3, 128]))"
      ]
     },
     "execution_count": 3,
     "metadata": {},
     "output_type": "execute_result"
    }
   ],
   "source": [
    "X = torch.LongTensor(batch, dk).random_(0, vocab_size)\n",
    "X, X.shape"
   ]
  },
  {
   "cell_type": "code",
   "execution_count": 4,
   "metadata": {
    "scrolled": false
   },
   "outputs": [
    {
     "data": {
      "text/plain": [
       "(tensor([[31, 76, 74, 38, 74, 36, 96, 13,  2, 20, 43, 91, 52,  1, 26, 95, 80, 97,\n",
       "          13, 54, 24, 69, 44, 19, 96, 43, 21, 28, 99, 67, 86, 66, 41, 89, 22, 26,\n",
       "          25,  4, 24, 93, 34,  4, 49, 11, 72, 49, 42, 23, 50, 29, 42, 34, 25, 71,\n",
       "          28,  9, 49, 16, 58, 10, 79, 44, 55, 27,  6, 32,  2, 71, 23, 89, 81, 41,\n",
       "          63, 32, 57, 63,  3, 51, 22, 72, 42, 46, 78, 91, 17, 96, 28, 88, 96, 70,\n",
       "          23, 88, 12, 21, 24, 40, 53, 91, 34, 64, 86, 43, 74, 82, 18, 96, 81, 50,\n",
       "          42, 41, 35, 83, 32, 40,  1, 41, 15, 54, 91, 79, 66, 40, 30, 95, 78, 45,\n",
       "           5,  7],\n",
       "         [67, 48, 62, 46, 75, 60, 22,  8, 86,  2, 45, 38, 24, 58, 54, 83, 68, 86,\n",
       "          62, 52, 31, 14, 25, 98, 11, 83, 25, 77, 19, 60, 19, 43, 83, 13, 32, 60,\n",
       "           3,  8, 16, 64,  0, 34, 43, 99, 55,  2, 74, 24, 66, 55, 69, 12, 65, 52,\n",
       "          83, 42, 25, 37, 59, 69, 98, 91, 19, 36, 45, 79, 84,  3, 70, 87, 15, 71,\n",
       "          84, 36, 56, 38, 87, 32, 30, 61, 80,  4, 17, 86, 79, 62, 54, 71, 38, 13,\n",
       "          36,  2, 95, 22, 57, 14, 69, 35, 40, 28, 54, 68, 17, 20,  4, 47,  6, 77,\n",
       "          99, 24, 37,  5, 53, 53, 27, 96, 95, 91, 24, 37, 36, 41,  2, 66, 26,  9,\n",
       "          30, 68],\n",
       "         [51, 49, 69, 67, 36, 87, 68, 71, 93, 81, 57,  4, 30, 12, 12,  9, 22, 58,\n",
       "          38, 86, 72, 92, 72, 73, 85, 58, 17, 42, 27, 98, 75, 70, 58, 72, 22, 33,\n",
       "          28, 55, 83, 88, 57, 81, 80, 86, 23,  4, 13, 79, 32, 27,  8, 43, 57, 94,\n",
       "          14, 47, 23,  5, 20, 15, 38, 10, 33, 90, 71, 54, 27, 45, 31, 32, 53,  8,\n",
       "          50, 18, 58, 34, 38, 58, 95, 34, 90, 88,  2, 83, 73, 93, 42, 21, 99,  1,\n",
       "          90, 37, 23, 89, 19, 46, 98, 63, 67, 28, 54, 24,  2, 66, 26, 17, 59, 66,\n",
       "          79,  8,  9, 37, 75, 56, 89, 71, 60, 64, 44, 56, 25, 91, 73, 49, 73, 64,\n",
       "          93, 34]]), torch.Size([3, 128]))"
      ]
     },
     "execution_count": 4,
     "metadata": {},
     "output_type": "execute_result"
    }
   ],
   "source": [
    "Y = torch.LongTensor(batch, dk).random_(0, vocab_size)\n",
    "Y, Y.shape"
   ]
  },
  {
   "cell_type": "markdown",
   "metadata": {},
   "source": [
    "Encoding with Embedding"
   ]
  },
  {
   "cell_type": "code",
   "execution_count": 5,
   "metadata": {},
   "outputs": [
    {
     "data": {
      "text/plain": [
       "Embedding(100, 512)"
      ]
     },
     "execution_count": 5,
     "metadata": {},
     "output_type": "execute_result"
    }
   ],
   "source": [
    "emb = torch.nn.Embedding(vocab_size, dmodel)\n",
    "emb"
   ]
  },
  {
   "cell_type": "code",
   "execution_count": 6,
   "metadata": {},
   "outputs": [
    {
     "data": {
      "text/plain": [
       "(tensor([[[-7.4370e-01, -8.6828e-01, -2.7522e-01,  ..., -7.8426e-01,\n",
       "           -1.3936e+00,  1.4515e-01],\n",
       "          [-1.4412e+00,  1.9428e+00, -1.5166e+00,  ...,  1.3360e+00,\n",
       "            5.1782e-01, -1.2139e+00],\n",
       "          [-7.7322e-01, -2.6234e+00, -1.5852e+00,  ...,  4.6360e-01,\n",
       "           -4.4293e-01, -5.3810e-01],\n",
       "          ...,\n",
       "          [-5.1910e-01,  1.0897e+00, -7.0683e-01,  ..., -8.3104e-01,\n",
       "            1.2882e+00, -3.6563e-01],\n",
       "          [ 3.7988e-01,  5.4167e-01, -8.0554e-01,  ...,  2.5563e-01,\n",
       "           -5.3713e-01, -4.3964e-01],\n",
       "          [-1.5777e-01,  8.2214e-01,  1.2952e-01,  ..., -1.5627e+00,\n",
       "            4.3985e-01,  6.8549e-01]],\n",
       " \n",
       "         [[ 1.1993e+00,  2.5093e+00, -6.5730e-01,  ...,  1.9132e-03,\n",
       "            5.5134e-01, -2.7710e-01],\n",
       "          [-5.1832e-01,  1.9028e-02,  3.3457e-01,  ..., -1.7653e-01,\n",
       "            5.3313e-01, -2.0941e-01],\n",
       "          [-1.1659e-01, -6.8319e-01,  3.2398e-01,  ..., -2.9641e-01,\n",
       "            8.9099e-01, -8.6332e-01],\n",
       "          ...,\n",
       "          [ 3.8407e-01, -4.9166e-01,  2.9796e-01,  ...,  3.9084e-01,\n",
       "           -5.1368e-01,  1.2359e+00],\n",
       "          [ 3.8407e-01, -4.9166e-01,  2.9796e-01,  ...,  3.9084e-01,\n",
       "           -5.1368e-01,  1.2359e+00],\n",
       "          [-5.1832e-01,  1.9028e-02,  3.3457e-01,  ..., -1.7653e-01,\n",
       "            5.3313e-01, -2.0941e-01]],\n",
       " \n",
       "         [[ 7.6221e-01, -1.3561e+00,  1.2258e+00,  ..., -6.4528e-01,\n",
       "            1.1880e+00,  3.6076e-01],\n",
       "          [-6.5192e-01, -1.1991e+00, -5.1443e-01,  ..., -1.7038e-01,\n",
       "           -9.4410e-02,  9.1978e-01],\n",
       "          [ 7.2281e-01,  3.7097e-01,  1.2404e+00,  ..., -1.8052e+00,\n",
       "           -7.2245e-01, -3.8434e-01],\n",
       "          ...,\n",
       "          [ 7.8027e-01, -4.6633e-02,  1.6162e-01,  ..., -1.1549e+00,\n",
       "            4.3045e-01, -4.3611e-01],\n",
       "          [-9.0097e-02, -2.3905e-01,  4.0122e-01,  ..., -3.7997e-01,\n",
       "           -6.4039e-01, -2.0607e+00],\n",
       "          [-1.5246e-01, -9.5398e-02,  7.9106e-01,  ...,  1.5677e+00,\n",
       "           -2.9857e-01, -8.3514e-01]]], grad_fn=<EmbeddingBackward>),\n",
       " torch.Size([3, 128, 512]))"
      ]
     },
     "execution_count": 6,
     "metadata": {},
     "output_type": "execute_result"
    }
   ],
   "source": [
    "xemb = emb(X)\n",
    "xemb, xemb.shape"
   ]
  },
  {
   "cell_type": "code",
   "execution_count": 7,
   "metadata": {},
   "outputs": [],
   "source": [
    "assert xemb.shape == (batch, dk, dmodel)"
   ]
  },
  {
   "cell_type": "code",
   "execution_count": 8,
   "metadata": {},
   "outputs": [
    {
     "data": {
      "text/plain": [
       "(tensor([[[-2.7923,  1.3359,  0.5676,  ...,  1.0117, -0.3725,  0.0627],\n",
       "          [ 0.3541,  0.1106, -0.5027,  ..., -0.4753,  0.2624, -1.4835],\n",
       "          [-0.6584, -1.0510, -0.3455,  ..., -0.1865,  0.0177,  1.0932],\n",
       "          ...,\n",
       "          [-0.4520,  0.5169,  0.6431,  ...,  0.6875, -0.5729,  0.0504],\n",
       "          [-0.4658,  0.7954, -0.9577,  ..., -1.0081, -0.0848, -1.2925],\n",
       "          [ 2.2046, -1.5829,  0.2253,  ...,  0.9616,  1.7996,  1.3005]],\n",
       " \n",
       "         [[ 0.0375, -0.9582,  1.0211,  ...,  0.5692, -0.3050, -1.3306],\n",
       "          [-0.6164,  0.0554, -1.2013,  ...,  0.4392, -0.5000, -0.1772],\n",
       "          [ 0.5268,  1.8576, -0.4416,  ...,  0.5141,  0.8941,  0.2494],\n",
       "          ...,\n",
       "          [ 0.4703, -0.2740,  0.8768,  ..., -0.9074, -0.9619, -0.7564],\n",
       "          [ 1.7020, -0.2659, -0.8205,  ..., -1.2084, -1.0628, -1.4550],\n",
       "          [ 0.2364,  1.2207,  0.9366,  ..., -0.3527,  0.2722, -1.5333]],\n",
       " \n",
       "         [[-0.7732, -2.6234, -1.5852,  ...,  0.4636, -0.4429, -0.5381],\n",
       "          [ 0.3248,  0.1294,  0.5513,  ..., -1.8004, -1.4832, -0.9545],\n",
       "          [ 0.3496, -0.5644,  0.6604,  ..., -1.3634, -0.8519, -0.6256],\n",
       "          ...,\n",
       "          [-0.1166, -0.6832,  0.3240,  ..., -0.2964,  0.8910, -0.8633],\n",
       "          [ 0.3382,  0.5359,  2.2801,  ..., -1.3835,  0.7050, -1.2117],\n",
       "          [-0.6110, -0.2758,  1.3200,  ..., -1.0812, -0.0556,  0.7634]]],\n",
       "        grad_fn=<EmbeddingBackward>), torch.Size([3, 128, 512]))"
      ]
     },
     "execution_count": 8,
     "metadata": {},
     "output_type": "execute_result"
    }
   ],
   "source": [
    "# should be (m, dmodel)\n",
    "yemb = emb(Y)\n",
    "yemb, yemb.shape"
   ]
  },
  {
   "cell_type": "code",
   "execution_count": 9,
   "metadata": {},
   "outputs": [],
   "source": [
    "assert yemb.shape == (batch, dk, dmodel)"
   ]
  },
  {
   "cell_type": "code",
   "execution_count": 10,
   "metadata": {},
   "outputs": [
    {
     "data": {
      "text/plain": [
       "(torch.Size([3, 128, 512]),\n",
       " torch.Size([3, 128, 512]),\n",
       " torch.Size([3, 128, 512]))"
      ]
     },
     "execution_count": 10,
     "metadata": {},
     "output_type": "execute_result"
    }
   ],
   "source": [
    "K = xemb  # keys\n",
    "Q = xemb  # queries\n",
    "V = xemb  # values\n",
    "Q.shape, K.shape, V.shape"
   ]
  },
  {
   "cell_type": "code",
   "execution_count": 11,
   "metadata": {},
   "outputs": [],
   "source": [
    "assert K.shape == (batch, dk, dmodel)\n",
    "assert Q.shape == (batch, dk, dmodel)\n",
    "assert V.shape == (batch, dk, dmodel)"
   ]
  },
  {
   "cell_type": "code",
   "execution_count": 12,
   "metadata": {},
   "outputs": [
    {
     "data": {
      "text/plain": [
       "torch.Size([3, 512, 128])"
      ]
     },
     "execution_count": 12,
     "metadata": {},
     "output_type": "execute_result"
    }
   ],
   "source": [
    "torch.transpose(K, 1, 2).shape"
   ]
  },
  {
   "cell_type": "code",
   "execution_count": 13,
   "metadata": {},
   "outputs": [
    {
     "name": "stdout",
     "output_type": "stream",
     "text": [
      "CPU times: user 3 µs, sys: 1e+03 ns, total: 4 µs\n",
      "Wall time: 6.91 µs\n"
     ]
    },
    {
     "data": {
      "text/plain": [
       "(tensor([[[ 5.6545e+02, -1.5040e+01, -3.0668e+01,  ..., -1.5941e+01,\n",
       "            3.6291e+01, -1.4979e+01],\n",
       "          [-1.5040e+01,  5.4772e+02,  3.6334e+01,  ..., -4.4557e+01,\n",
       "            3.9309e+01,  2.4697e+01],\n",
       "          [-3.0668e+01,  3.6334e+01,  5.4751e+02,  ..., -6.9161e+00,\n",
       "           -1.1353e+01, -1.7594e+01],\n",
       "          ...,\n",
       "          [-1.5941e+01, -4.4556e+01, -6.9161e+00,  ...,  5.2700e+02,\n",
       "           -9.3915e+00,  2.0594e+01],\n",
       "          [ 3.6291e+01,  3.9309e+01, -1.1353e+01,  ..., -9.3915e+00,\n",
       "            4.8655e+02,  3.7267e+00],\n",
       "          [-1.4979e+01,  2.4697e+01, -1.7594e+01,  ...,  2.0594e+01,\n",
       "            3.7267e+00,  5.1442e+02]],\n",
       " \n",
       "         [[ 4.6766e+02, -2.7014e+01, -7.0086e+00,  ..., -1.1512e+01,\n",
       "           -1.1512e+01, -2.7014e+01],\n",
       "          [-2.7014e+01,  5.2237e+02, -5.2728e+00,  ..., -2.6629e+01,\n",
       "           -2.6629e+01,  5.2237e+02],\n",
       "          [-7.0086e+00, -5.2728e+00,  5.4679e+02,  ...,  1.4173e+01,\n",
       "            1.4173e+01, -5.2728e+00],\n",
       "          ...,\n",
       "          [-1.1512e+01, -2.6629e+01,  1.4173e+01,  ...,  4.8861e+02,\n",
       "            4.8861e+02, -2.6629e+01],\n",
       "          [-1.1512e+01, -2.6629e+01,  1.4173e+01,  ...,  4.8861e+02,\n",
       "            4.8861e+02, -2.6629e+01],\n",
       "          [-2.7014e+01,  5.2237e+02, -5.2728e+00,  ..., -2.6629e+01,\n",
       "           -2.6629e+01,  5.2237e+02]],\n",
       " \n",
       "         [[ 4.8120e+02,  1.8829e+01,  2.6411e+01,  ..., -1.4090e+01,\n",
       "           -1.1532e+01, -3.5416e+01],\n",
       "          [ 1.8829e+01,  5.0956e+02, -2.8504e+00,  ..., -4.8744e+00,\n",
       "            1.8368e-01,  2.4582e+00],\n",
       "          [ 2.6411e+01, -2.8504e+00,  4.9671e+02,  ...,  7.8886e+00,\n",
       "           -5.2504e+01, -4.9157e+01],\n",
       "          ...,\n",
       "          [-1.4090e+01, -4.8744e+00,  7.8886e+00,  ...,  4.9753e+02,\n",
       "           -6.3689e+00,  1.4659e+01],\n",
       "          [-1.1532e+01,  1.8368e-01, -5.2504e+01,  ..., -6.3689e+00,\n",
       "            4.8669e+02, -3.0824e+01],\n",
       "          [-3.5416e+01,  2.4582e+00, -4.9157e+01,  ...,  1.4659e+01,\n",
       "           -3.0824e+01,  4.9310e+02]]], grad_fn=<BmmBackward>),\n",
       " torch.Size([3, 128, 128]))"
      ]
     },
     "execution_count": 13,
     "metadata": {},
     "output_type": "execute_result"
    }
   ],
   "source": [
    "%time\n",
    "# cf. https://github.com/pytorch/pytorch/issues/889 bmm is slow?\n",
    "# The attention score is calculated by taking the dot product of the query vector with the key vector of the respective word we're scoring.\n",
    "QK = torch.bmm(Q, torch.transpose(K, 1, 2))\n",
    "QK, QK.shape"
   ]
  },
  {
   "cell_type": "code",
   "execution_count": 14,
   "metadata": {},
   "outputs": [],
   "source": [
    "assert QK.shape == (batch, dv, dk)"
   ]
  },
  {
   "cell_type": "code",
   "execution_count": 15,
   "metadata": {},
   "outputs": [
    {
     "data": {
      "text/plain": [
       "0.08838834764831843"
      ]
     },
     "execution_count": 15,
     "metadata": {},
     "output_type": "execute_result"
    }
   ],
   "source": [
    "scale_factor = 1 / math.sqrt(dk)\n",
    "scale_factor"
   ]
  },
  {
   "cell_type": "code",
   "execution_count": 16,
   "metadata": {},
   "outputs": [
    {
     "data": {
      "text/plain": [
       "tensor([[[ 4.9980e+01, -1.3293e+00, -2.7107e+00,  ..., -1.4090e+00,\n",
       "           3.2077e+00, -1.3240e+00],\n",
       "         [-1.3293e+00,  4.8412e+01,  3.2115e+00,  ..., -3.9383e+00,\n",
       "           3.4744e+00,  2.1829e+00],\n",
       "         [-2.7107e+00,  3.2115e+00,  4.8394e+01,  ..., -6.1131e-01,\n",
       "          -1.0035e+00, -1.5551e+00],\n",
       "         ...,\n",
       "         [-1.4090e+00, -3.9383e+00, -6.1131e-01,  ...,  4.6581e+01,\n",
       "          -8.3010e-01,  1.8202e+00],\n",
       "         [ 3.2077e+00,  3.4744e+00, -1.0035e+00,  ..., -8.3010e-01,\n",
       "           4.3006e+01,  3.2940e-01],\n",
       "         [-1.3240e+00,  2.1829e+00, -1.5551e+00,  ...,  1.8202e+00,\n",
       "           3.2940e-01,  4.5469e+01]],\n",
       "\n",
       "        [[ 4.1336e+01, -2.3877e+00, -6.1948e-01,  ..., -1.0176e+00,\n",
       "          -1.0176e+00, -2.3877e+00],\n",
       "         [-2.3877e+00,  4.6172e+01, -4.6605e-01,  ..., -2.3537e+00,\n",
       "          -2.3537e+00,  4.6172e+01],\n",
       "         [-6.1948e-01, -4.6605e-01,  4.8330e+01,  ...,  1.2527e+00,\n",
       "           1.2527e+00, -4.6606e-01],\n",
       "         ...,\n",
       "         [-1.0176e+00, -2.3537e+00,  1.2527e+00,  ...,  4.3188e+01,\n",
       "           4.3188e+01, -2.3537e+00],\n",
       "         [-1.0176e+00, -2.3537e+00,  1.2527e+00,  ...,  4.3188e+01,\n",
       "           4.3188e+01, -2.3537e+00],\n",
       "         [-2.3877e+00,  4.6172e+01, -4.6605e-01,  ..., -2.3537e+00,\n",
       "          -2.3537e+00,  4.6172e+01]],\n",
       "\n",
       "        [[ 4.2533e+01,  1.6643e+00,  2.3344e+00,  ..., -1.2454e+00,\n",
       "          -1.0193e+00, -3.1304e+00],\n",
       "         [ 1.6643e+00,  4.5039e+01, -2.5194e-01,  ..., -4.3084e-01,\n",
       "           1.6236e-02,  2.1727e-01],\n",
       "         [ 2.3344e+00, -2.5194e-01,  4.3903e+01,  ...,  6.9726e-01,\n",
       "          -4.6407e+00, -4.3449e+00],\n",
       "         ...,\n",
       "         [-1.2454e+00, -4.3084e-01,  6.9726e-01,  ...,  4.3976e+01,\n",
       "          -5.6294e-01,  1.2957e+00],\n",
       "         [-1.0193e+00,  1.6235e-02, -4.6407e+00,  ..., -5.6294e-01,\n",
       "           4.3018e+01, -2.7244e+00],\n",
       "         [-3.1304e+00,  2.1728e-01, -4.3449e+00,  ...,  1.2957e+00,\n",
       "          -2.7244e+00,  4.3584e+01]]], grad_fn=<MulBackward0>)"
      ]
     },
     "execution_count": 16,
     "metadata": {},
     "output_type": "execute_result"
    }
   ],
   "source": [
    "QK*scale_factor"
   ]
  },
  {
   "cell_type": "code",
   "execution_count": 17,
   "metadata": {},
   "outputs": [],
   "source": [
    "softmax = torch.nn.Softmax()"
   ]
  },
  {
   "cell_type": "code",
   "execution_count": 18,
   "metadata": {},
   "outputs": [
    {
     "name": "stderr",
     "output_type": "stream",
     "text": [
      "/anaconda3/envs/core/lib/python3.7/site-packages/ipykernel_launcher.py:1: UserWarning: Implicit dimension choice for softmax has been deprecated. Change the call to include dim=X as an argument.\n",
      "  \"\"\"Entry point for launching an IPython kernel.\n"
     ]
    },
    {
     "data": {
      "text/plain": [
       "(tensor([[[9.9924e-01, 4.6939e-02, 6.0847e-03,  ..., 2.7347e-01,\n",
       "           9.7161e-01, 6.6251e-01],\n",
       "          [4.6939e-02, 8.7667e-01, 9.4643e-01,  ..., 2.5484e-02,\n",
       "           9.6672e-01, 7.8700e-20],\n",
       "          [6.0847e-03, 9.4643e-01, 5.1299e-01,  ..., 8.9682e-02,\n",
       "           9.4580e-02, 2.4797e-01],\n",
       "          ...,\n",
       "          [2.7347e-01, 2.5484e-02, 8.9682e-02,  ..., 9.0294e-01,\n",
       "           7.6435e-20, 6.2219e-01],\n",
       "          [9.7161e-01, 9.6672e-01, 9.4580e-02,  ..., 7.6435e-20,\n",
       "           3.1137e-01, 8.9643e-01],\n",
       "          [6.6251e-01, 7.8700e-20, 2.4797e-01,  ..., 6.2219e-01,\n",
       "           8.9643e-01, 3.1534e-01]],\n",
       " \n",
       "         [[1.7610e-04, 1.6289e-02, 4.9252e-02,  ..., 4.0447e-01,\n",
       "           1.4206e-02, 2.2868e-01],\n",
       "          [1.6289e-02, 9.3278e-02, 2.3930e-02,  ..., 1.2430e-01,\n",
       "           2.8457e-03, 1.0000e+00],\n",
       "          [4.9252e-02, 2.3930e-02, 4.8125e-01,  ..., 5.7842e-01,\n",
       "           9.0293e-01, 7.3680e-01],\n",
       "          ...,\n",
       "          [4.0447e-01, 1.2430e-01, 5.7842e-01,  ..., 3.0341e-02,\n",
       "           1.0000e+00, 9.5770e-03],\n",
       "          [1.4206e-02, 2.8457e-03, 9.0293e-01,  ..., 1.0000e+00,\n",
       "           3.7351e-01, 6.1275e-02],\n",
       "          [2.2868e-01, 1.0000e+00, 7.3680e-01,  ..., 9.5770e-03,\n",
       "           6.1275e-02, 6.3676e-01]],\n",
       " \n",
       "         [[5.8292e-04, 9.3677e-01, 9.4466e-01,  ..., 3.2205e-01,\n",
       "           1.4182e-02, 1.0881e-01],\n",
       "          [9.3677e-01, 3.0056e-02, 2.9643e-02,  ..., 8.5022e-01,\n",
       "           3.0438e-02, 1.1023e-20],\n",
       "          [9.4466e-01, 2.9643e-02, 5.7545e-03,  ..., 3.3190e-01,\n",
       "           2.4898e-03, 1.5233e-02],\n",
       "          ...,\n",
       "          [3.2205e-01, 8.5022e-01, 3.3190e-01,  ..., 6.6719e-02,\n",
       "           9.9844e-20, 3.6823e-01],\n",
       "          [1.4182e-02, 3.0438e-02, 2.4898e-03,  ..., 9.9844e-20,\n",
       "           3.1513e-01, 4.2291e-02],\n",
       "          [1.0881e-01, 1.1023e-20, 1.5233e-02,  ..., 3.6823e-01,\n",
       "           4.2291e-02, 4.7893e-02]]], grad_fn=<SoftmaxBackward>),\n",
       " torch.Size([3, 128, 128]))"
      ]
     },
     "execution_count": 18,
     "metadata": {},
     "output_type": "execute_result"
    }
   ],
   "source": [
    "attention_weight = softmax(QK*scale_factor)\n",
    "attention_weight, attention_weight.shape"
   ]
  },
  {
   "cell_type": "code",
   "execution_count": 19,
   "metadata": {},
   "outputs": [
    {
     "data": {
      "text/plain": [
       "(tensor([[[ -5.2208,   6.3396,  -1.3444,  ..., -11.1527,  -2.0041,  -0.8382],\n",
       "          [-12.1644,  16.1637,  -8.5687,  ...,  -0.2904,   7.8781,  -8.8301],\n",
       "          [-14.0533,   7.7594, -12.5574,  ...,   2.9489,   0.1275,   0.1876],\n",
       "          ...,\n",
       "          [ -2.9353,   9.9205,   2.9277,  ..., -19.9918,   2.4707,  -2.9385],\n",
       "          [  0.7752,  12.1051,  -7.3978,  ...,  -3.7475,  -3.1378,  -9.5008],\n",
       "          [ -0.6660,  19.6250,   1.0155,  ...,  -9.3714,  13.4782, -10.3719]],\n",
       " \n",
       "         [[  6.7824,   6.4249,  -3.8334,  ...,  -6.1943,   8.4589,  -4.8254],\n",
       "          [ -1.6051,  -5.7161,   6.1422,  ...,  -1.7075,  -2.2090,   1.0344],\n",
       "          [  0.6884,   3.2505,   3.5361,  ...,  -5.5932,   0.3041,  -5.3775],\n",
       "          ...,\n",
       "          [  5.0672,   1.6973,  -0.6583,  ...,  -4.8749,  -2.4965,  -0.2467],\n",
       "          [  7.7942,  -0.6047,  -2.3646,  ...,  -3.8502,  -0.0719,  -1.8307],\n",
       "          [  3.1276,  -8.1946,   3.6876,  ...,  -4.8892,  -5.6631,  -1.9023]],\n",
       " \n",
       "         [[ 14.2264,  -8.2229,   4.2657,  ...,  -7.4643,   6.4325,  -0.2090],\n",
       "          [  8.9282,  -5.1373,   8.9882,  ...,  -2.4840,   7.9742,   1.0947],\n",
       "          [ 10.9785,   1.9285,   3.2876,  ..., -11.9361,   6.0063,  -2.4966],\n",
       "          ...,\n",
       "          [  4.1172,   2.2222,   4.3432,  ..., -10.3183,   1.8811,  -4.8393],\n",
       "          [ 12.4092,   0.3310,  -0.5402,  ...,  -8.6851,  11.7985,  -2.2981],\n",
       "          [  1.3148,   1.1033,   2.7601,  ...,  -6.6695,   7.2931,  -5.1177]]],\n",
       "        grad_fn=<BmmBackward>), torch.Size([3, 128, 512]))"
      ]
     },
     "execution_count": 19,
     "metadata": {},
     "output_type": "execute_result"
    }
   ],
   "source": [
    "attention_out = torch.bmm(attention_weight, V)\n",
    "attention_out, attention_out.shape"
   ]
  },
  {
   "cell_type": "code",
   "execution_count": 20,
   "metadata": {},
   "outputs": [],
   "source": [
    "assert attention_out.shape == (batch, dv, dmodel)"
   ]
  },
  {
   "cell_type": "code",
   "execution_count": 21,
   "metadata": {},
   "outputs": [],
   "source": [
    "def embedding(X, vocab_x, embed_size_x):\n",
    "    \"\"\"\n",
    "    params:\n",
    "        - X (batch, inlen(=dk))  # input sequence\n",
    "        - vocab_x : int  # vocab size of input\n",
    "        - embed_size_x : embedding size of input\n",
    "        \n",
    "    returns:\n",
    "        - K (batch, dk(=inlen), dmodel)\n",
    "        - Q (batch, dk(=inlen), dmodel)\n",
    "        - V (batch, dk(=inlen), dmodel)\n",
    "    \"\"\"\n",
    "    print(f'input sequence X : {X.shape} (batchsize, seqlen)')\n",
    "    print(f'embedding for input sequence : vocab size {vocab_x} embed(=hidden) size {embed_size_x}')\n",
    "    embedding_x = torch.nn.Embedding(vocab_x, embed_size_x)\n",
    "    Xemb = embedding_x(X)\n",
    "    K = Xemb\n",
    "    Q = Xemb.clone()\n",
    "    V = Xemb.clone()\n",
    "    print(f'encoded input sequence X:{X.shape} to K:{K.shape}, V:{V.shape}')\n",
    "    return K, Q, V"
   ]
  },
  {
   "cell_type": "code",
   "execution_count": 22,
   "metadata": {},
   "outputs": [],
   "source": [
    "def projection(K, Q, V):\n",
    "    \"\"\"\n",
    "    params:\n",
    "        - K (batch, dk(=inlen), dmodel)\n",
    "        - Q (batch, dk(=inlen), dmodel)\n",
    "        - V (batch, dv(=outlen), dmodel)\n",
    "        - dk (inlen)\n",
    "        - dv (labellen)\n",
    "        - dmodel (hidden size)\n",
    "    returns:\n",
    "        - QW (batch, dmodel, dmodel)\n",
    "        - KW (batch, dmodel, dmodel)\n",
    "        - VW (batch, dmodel, dmodel)\n",
    "    \"\"\"\n",
    "    dk = K.shape[1]\n",
    "    dv = V.shape[1]\n",
    "    dmodel = K.shape[2]\n",
    "    Wq = torch.nn.Linear(dk, dmodel)\n",
    "    Wk = torch.nn.Linear(dk, dmodel)\n",
    "    Wv = torch.nn.Linear(dv, dmodel)\n",
    "    \n",
    "    QW = Wq(Q.transpose(1,2))\n",
    "    KW = Wk(K.transpose(1,2))\n",
    "    VW = Wv(V.transpose(1,2))\n",
    "    \n",
    "    print(f'project K({K.shape}), Q({Q.shape}), V({V.shape}) -> KW({KW.shape}), QW({QW.shape}), VW({VW.shape})')\n",
    "    return QW, KW, VW "
   ]
  },
  {
   "cell_type": "code",
   "execution_count": 23,
   "metadata": {},
   "outputs": [],
   "source": [
    "def calc_scale_factor(dk):\n",
    "    scale_factor = 1 / math.sqrt(dk)\n",
    "    print(f'calculate scale factor by 1 / math.sqrt({dk}) = {scale_factor}')\n",
    "    return scale_factor"
   ]
  },
  {
   "cell_type": "code",
   "execution_count": 24,
   "metadata": {},
   "outputs": [],
   "source": [
    "def scaled_dot_product_attention(KW, QW, VW, scale_factor):\n",
    "    \"\"\"\n",
    "    params:\n",
    "        - KW (batch, dmodel, dmodel)  # Keys (eocoded inputs)\n",
    "        - QW (batch, dmodel, dmodel)  # Queries (decode states)\n",
    "        - VW (batch, dmodel, dmodel)  # Values (encoded inputs)\n",
    "        - scale_factor (float)  # normalization scale factor\n",
    "        \n",
    "    returns:\n",
    "        - attention_weights (batch, dv, dmodel)\n",
    "    \"\"\"\n",
    "    print('scaled dot product attention')\n",
    "    print(f'KW {KW.shape}')\n",
    "    print(f'QW {QW.shape}')\n",
    "    print(f'VW {VW.shape}')\n",
    "    softmax = torch.nn.Softmax()\n",
    "    \n",
    "    # The attention score is calculated by taking the dot product of\n",
    "    # the query vector with the key vector of the respective word we're scoring.\n",
    "    QW_KW = torch.bmm(QW, torch.transpose(KW, 1, 2))\n",
    "    attention_weight = softmax(QW_KW*scale_factor)\n",
    "    attention_out = torch.bmm(attention_weight, VW)\n",
    "    return attention_out"
   ]
  },
  {
   "cell_type": "code",
   "execution_count": 25,
   "metadata": {},
   "outputs": [
    {
     "name": "stdout",
     "output_type": "stream",
     "text": [
      "input sequence X : torch.Size([3, 128]) (batchsize, seqlen)\n",
      "embedding for input sequence : vocab size 100 embed(=hidden) size 512\n",
      "encoded input sequence X:torch.Size([3, 128]) to K:torch.Size([3, 128, 512]), V:torch.Size([3, 128, 512])\n",
      "calculate scale factor by 1 / math.sqrt(128) = 0.08838834764831843\n",
      "project K(torch.Size([3, 128, 512])), Q(torch.Size([3, 128, 512])), V(torch.Size([3, 128, 512])) -> KW(torch.Size([3, 512, 512])), QW(torch.Size([3, 512, 512])), VW(torch.Size([3, 512, 512]))\n",
      "scaled dot product attention\n",
      "KW torch.Size([3, 128, 512])\n",
      "QW torch.Size([3, 128, 512])\n",
      "VW torch.Size([3, 128, 512])\n"
     ]
    },
    {
     "name": "stderr",
     "output_type": "stream",
     "text": [
      "/anaconda3/envs/core/lib/python3.7/site-packages/ipykernel_launcher.py:21: UserWarning: Implicit dimension choice for softmax has been deprecated. Change the call to include dim=X as an argument.\n"
     ]
    },
    {
     "data": {
      "text/plain": [
       "tensor([[[  3.8903,   6.2625,   8.4174,  ...,   7.7514,   6.2590,  -2.7957],\n",
       "         [ 10.3296,  -0.2474,   6.6886,  ...,   5.4952,   7.5284,  -1.0416],\n",
       "         [  3.3275,  -1.9438,  13.6787,  ...,  -6.1271,   8.0654,  -4.7233],\n",
       "         ...,\n",
       "         [ 10.5212,   0.6812,   0.1991,  ...,   3.4666,   4.0624,   3.4267],\n",
       "         [  4.6929,   3.0002,   4.7426,  ...,   4.6379,  14.5788,  -5.5305],\n",
       "         [  3.6568,   2.8296,  12.1129,  ...,  -0.1851,   8.6264,  -7.7235]],\n",
       "\n",
       "        [[-10.1946,  -0.1708,   7.7343,  ...,  -7.1773,   4.3770,  -0.9312],\n",
       "         [ -3.7826,  -6.1612,   1.5804,  ..., -12.5603,   1.9346,  -1.6255],\n",
       "         [ -3.9393,  -0.6570,   9.5522,  ...,  -8.4486,   0.5684,  -0.2595],\n",
       "         ...,\n",
       "         [ -4.0282,  -4.0225,   1.2732,  ..., -12.4916,   3.9984,  -8.2403],\n",
       "         [ -3.3371,  -1.5900,   2.3007,  ..., -11.6249,   5.4169,  -8.8317],\n",
       "         [ -1.8625,  -0.3722,   2.1419,  ...,  -8.2056,  -0.3253,  -3.0446]],\n",
       "\n",
       "        [[  6.2761,   1.7240,  10.0897,  ...,   3.9660,   2.2180,  -8.1039],\n",
       "         [  4.8711,  -1.1157,  11.3347,  ...,  -2.3963,   0.8551, -13.2409],\n",
       "         [ -2.1137,  -4.7758,  25.5650,  ...,  -5.5522,   6.4486,  -3.1203],\n",
       "         ...,\n",
       "         [  6.0650,   5.7285,  15.7130,  ...,  -7.1387,  14.5586,   0.5091],\n",
       "         [  0.8387,   1.6713,   9.2079,  ...,   0.5435,  -2.5572,  -6.9730],\n",
       "         [  7.9345,   0.2858,   1.9626,  ...,  -3.1692,  -1.4891,  -8.2909]]],\n",
       "       grad_fn=<BmmBackward>)"
      ]
     },
     "execution_count": 25,
     "metadata": {},
     "output_type": "execute_result"
    }
   ],
   "source": [
    "# test\n",
    "K, Q, V = embedding(X, vocab_size, dmodel)\n",
    "dk = K.shape[1]\n",
    "scale_factor = calc_scale_factor(dk)\n",
    "KW, QW, VW = projection(K, Q, V)\n",
    "scaled_dot_product_attention(K, Q, V, scale_factor)"
   ]
  },
  {
   "cell_type": "markdown",
   "metadata": {},
   "source": [
    "#### 3.2.2 Multi-Head Attention"
   ]
  },
  {
   "cell_type": "markdown",
   "metadata": {},
   "source": [
    "$ Q \\in \\mathbb{R}^{d_{model}} $, $K \\in \\mathbb{R}^{d_{model}} $, $V \\in \\mathbb{R}^{d_{model}} $"
   ]
  },
  {
   "cell_type": "markdown",
   "metadata": {},
   "source": [
    "$ Attention(Q,K,V) = softmax(\\frac{QK^T}{\\sqrt{d_k}})V $"
   ]
  },
  {
   "cell_type": "markdown",
   "metadata": {},
   "source": [
    "$ MultiHead(Q,K,V) = Concat(head_1,...,head_h)W^O $  \n",
    "$ where $  \n",
    "$ head_i = Attention(QW_i^Q,KW_i^K,VW_i^V) $"
   ]
  },
  {
   "cell_type": "markdown",
   "metadata": {},
   "source": [
    "$ W_i^Q \\in \\mathbb{R}^{d_{model} \\times d_k} $, $W_i^K \\in \\mathbb{R}^{d_{model} \\times d_k} $, $W_i^V \\in \\mathbb{R}^{d_{model} \\times d_v} $ and $ W^O \\in \\mathbb{R}^{{hd_v} \\times d_{model}} $"
   ]
  },
  {
   "cell_type": "code",
   "execution_count": 26,
   "metadata": {},
   "outputs": [
    {
     "data": {
      "text/plain": [
       "(Linear(in_features=128, out_features=512, bias=True),\n",
       " Linear(in_features=128, out_features=512, bias=True),\n",
       " Linear(in_features=128, out_features=512, bias=True))"
      ]
     },
     "execution_count": 26,
     "metadata": {},
     "output_type": "execute_result"
    }
   ],
   "source": [
    "Wq = torch.nn.Linear(dk, dmodel)\n",
    "Wk = torch.nn.Linear(dk, dmodel)\n",
    "Wv = torch.nn.Linear(dk, dmodel)\n",
    "Wq, Wk, Wv"
   ]
  },
  {
   "cell_type": "code",
   "execution_count": 27,
   "metadata": {},
   "outputs": [],
   "source": [
    "assert K.shape == (batch, dk, dmodel)\n",
    "assert Q.shape == (batch, dk, dmodel)\n",
    "assert V.shape == (batch, dk, dmodel)"
   ]
  },
  {
   "cell_type": "code",
   "execution_count": 28,
   "metadata": {},
   "outputs": [
    {
     "data": {
      "text/plain": [
       "(torch.Size([3, 512, 512]),\n",
       " torch.Size([3, 512, 512]),\n",
       " torch.Size([3, 512, 512]))"
      ]
     },
     "execution_count": 28,
     "metadata": {},
     "output_type": "execute_result"
    }
   ],
   "source": [
    "QW = Wq(Q.transpose(1,2))\n",
    "KW = Wk(K.transpose(1,2))\n",
    "VW = Wv(V.transpose(1,2))\n",
    "QW.shape, KW.shape, VW.shape"
   ]
  },
  {
   "cell_type": "code",
   "execution_count": 29,
   "metadata": {},
   "outputs": [],
   "source": [
    "assert KW.shape == (batch, dmodel, dmodel)\n",
    "assert QW.shape == (batch, dmodel, dmodel)\n",
    "assert VW.shape == (batch, dmodel, dmodel)"
   ]
  },
  {
   "cell_type": "code",
   "execution_count": 30,
   "metadata": {},
   "outputs": [],
   "source": [
    "def multi_head_attention(KW, QW, VW, h, scale_factor):\n",
    "    \"\"\"\n",
    "    params:\n",
    "        - KW (batch, dmodel, dmodel)  # Keys (eocoded inputs)\n",
    "        - QW (batch, dmodel, dmodel)  # Queries (decode states)\n",
    "        - VW (batch, dmodel, dmodel)  # Values (encoded inputs)\n",
    "        - h (n parallel)\n",
    "    \"\"\"\n",
    "    dmodel = KW.shape[2]  # embed size\n",
    "    step = int(dmodel/h)\n",
    "    Wo = torch.nn.Linear(dmodel, dmodel)\n",
    "    print(f'QW {QW.shape}')\n",
    "    print(f'n parallel {h}')\n",
    "    print(f'total_size/n_parallel {step}')\n",
    "    print(f'QWi {QW[:, 1*step:1*step+step, :].shape}')\n",
    "    print(f'KWi {KW[:, 1*step:1*step+step, :].shape}')\n",
    "    print(f'VWi {VW[:, 1*step:1*step+step, :].shape}')\n",
    "    print(f'trying to culculate dot product attention for {h} heads. scale factor is {scale_factor}.')\n",
    "    heads = [scaled_dot_product_attention(\n",
    "        QW[:, i*step:(i+1)*step, :], KW[:, i*step:(i+1)*step, :], VW[:, i*step:(i+1)*step, :], scale_factor) for i in range(h)]\n",
    "    print(f'{len(heads)} heads {heads} as each shape {heads[0].shape}')\n",
    "    out = Wo(torch.cat(heads, dim=1).transpose(1,2))\n",
    "    print(f'product of Wo and heads out {out} as the shape {out.shape}')\n",
    "    return out, KW"
   ]
  },
  {
   "cell_type": "code",
   "execution_count": 31,
   "metadata": {
    "scrolled": false
   },
   "outputs": [
    {
     "name": "stderr",
     "output_type": "stream",
     "text": [
      "/anaconda3/envs/core/lib/python3.7/site-packages/ipykernel_launcher.py:21: UserWarning: Implicit dimension choice for softmax has been deprecated. Change the call to include dim=X as an argument.\n"
     ]
    },
    {
     "name": "stdout",
     "output_type": "stream",
     "text": [
      "project K(torch.Size([3, 128, 512])), Q(torch.Size([3, 128, 512])), V(torch.Size([3, 128, 512])) -> KW(torch.Size([3, 512, 512])), QW(torch.Size([3, 512, 512])), VW(torch.Size([3, 512, 512]))\n",
      "QW torch.Size([3, 512, 512])\n",
      "n parallel 4\n",
      "total_size/n_parallel 128\n",
      "QWi torch.Size([3, 128, 512])\n",
      "KWi torch.Size([3, 128, 512])\n",
      "VWi torch.Size([3, 128, 512])\n",
      "trying to culculate dot product attention for 4 heads. scale factor is 0.08838834764831843.\n",
      "scaled dot product attention\n",
      "KW torch.Size([3, 128, 512])\n",
      "QW torch.Size([3, 128, 512])\n",
      "VW torch.Size([3, 128, 512])\n",
      "scaled dot product attention\n",
      "KW torch.Size([3, 128, 512])\n",
      "QW torch.Size([3, 128, 512])\n",
      "VW torch.Size([3, 128, 512])\n",
      "scaled dot product attention\n",
      "KW torch.Size([3, 128, 512])\n",
      "QW torch.Size([3, 128, 512])\n",
      "VW torch.Size([3, 128, 512])\n",
      "scaled dot product attention\n",
      "KW torch.Size([3, 128, 512])\n",
      "QW torch.Size([3, 128, 512])\n",
      "VW torch.Size([3, 128, 512])\n",
      "4 heads [tensor([[[ 1.1162,  2.3917,  3.1834,  ...,  3.0642,  2.1254,  4.8349],\n",
      "         [ 1.2663,  2.0755,  1.5097,  ...,  2.0361,  1.0047,  5.3232],\n",
      "         [ 0.1599,  2.4035,  0.4628,  ...,  6.1850,  2.4923,  2.1942],\n",
      "         ...,\n",
      "         [ 4.3918, -0.3716,  2.7943,  ..., -1.5001, -0.2069,  5.4110],\n",
      "         [ 1.3325,  0.6484,  2.3696,  ...,  3.7416,  1.1819,  4.8663],\n",
      "         [ 1.2802,  0.2012,  2.6914,  ...,  2.6637,  6.4138,  4.8494]],\n",
      "\n",
      "        [[ 3.5950,  4.1234, -2.3293,  ...,  2.7073, -0.0684,  1.9402],\n",
      "         [ 0.4803,  6.3694, -2.9383,  ...,  2.4463,  1.1574,  1.4496],\n",
      "         [ 6.8440,  1.8906, -0.3205,  ..., -0.0705,  1.3787,  1.9904],\n",
      "         ...,\n",
      "         [ 1.8487,  1.6274, -0.1813,  ...,  1.3037, -0.8108,  1.1565],\n",
      "         [ 4.9206,  2.3295, -2.1344,  ...,  2.3259, -0.4833,  1.8726],\n",
      "         [ 4.8707,  5.3562, -0.8546,  ..., -0.4208,  2.0650,  0.9146]],\n",
      "\n",
      "        [[ 6.4132, -1.1276,  1.1088,  ...,  2.0344, -6.8651,  5.0879],\n",
      "         [ 5.7356,  0.7748,  0.2370,  ..., -0.7643, -2.5349,  4.9863],\n",
      "         [ 8.4518, -1.5258,  1.2756,  ..., -3.5907, -1.0041,  4.1769],\n",
      "         ...,\n",
      "         [ 6.0218, -3.7757,  2.6424,  ...,  1.5763, -5.7229,  4.4497],\n",
      "         [ 5.5629, -2.1855,  2.0620,  ...,  0.8932, -2.8196,  5.2293],\n",
      "         [ 4.2635,  1.8023, -1.2271,  ...,  1.4672, -4.8037,  2.5409]]],\n",
      "       grad_fn=<BmmBackward>), tensor([[[  2.3177,   2.2100, -10.1560,  ...,   6.5089,  -3.7444,   9.6489],\n",
      "         [  0.3194,   1.8538,  -3.2632,  ...,   4.0292,  -1.8192,   7.0660],\n",
      "         [  3.1608,   2.2677,  -5.0807,  ...,   2.6834,  -2.1655,   8.5736],\n",
      "         ...,\n",
      "         [  6.1173,   0.7316,  -1.4181,  ...,   1.0744,  -4.6438,   7.9217],\n",
      "         [  2.8072,   0.6580,  -7.2592,  ...,   4.6475,  -4.5471,  11.5016],\n",
      "         [  0.8251,   5.2590,  -6.8779,  ...,   0.8372,  -1.2789,   7.7793]],\n",
      "\n",
      "        [[  4.1763,   2.1708,  -1.5976,  ...,   3.0192,  -2.2537,   0.2179],\n",
      "         [  3.4969,  -0.3490,   1.2173,  ...,   6.3206,  -0.7352,  -1.9687],\n",
      "         [  6.1244,   2.1091,  -1.7125,  ...,   0.8451,  -1.7571,  -0.1322],\n",
      "         ...,\n",
      "         [  5.4963,   2.9207,  -0.3037,  ...,   2.0432,   3.1470,  -1.1827],\n",
      "         [  4.5017,   0.7822,  -4.3788,  ...,   2.0504,  -1.8033,   1.3821],\n",
      "         [  5.9751,   2.1919,  -3.0022,  ...,   1.2342,  -3.0627,  -0.4820]],\n",
      "\n",
      "        [[  6.9661,   2.3148,  -4.9499,  ...,   3.0507,   0.6352,   3.2963],\n",
      "         [  5.5154,   0.6489,  -5.1142,  ...,   1.1264,   0.8823,   4.4548],\n",
      "         [  4.0692,   0.7969,  -3.1409,  ...,   0.2440,   0.0822,   4.9254],\n",
      "         ...,\n",
      "         [  6.0645,   0.6547,  -2.8870,  ...,   6.5223,  -3.2994,   0.3001],\n",
      "         [  6.4116,   1.3047,  -2.2108,  ...,   2.9339,  -2.7133,   3.6368],\n",
      "         [  3.8634,  -4.4969,  -1.6725,  ...,   1.2160,  -1.3258,   3.9312]]],\n",
      "       grad_fn=<BmmBackward>), tensor([[[-2.8080, -2.9244,  0.4899,  ..., -0.3274,  0.3716,  4.0273],\n",
      "         [-1.6769, -0.9557,  0.0657,  ...,  1.6570, -1.1296,  5.3139],\n",
      "         [ 0.1993,  0.9699, -3.2550,  ...,  2.2363,  0.1543,  2.6186],\n",
      "         ...,\n",
      "         [-2.2181, -4.3107, -0.5925,  ...,  0.1954,  1.4574,  3.5028],\n",
      "         [-4.4108,  0.2070,  0.4548,  ...,  3.9370,  1.5774,  4.7319],\n",
      "         [ 0.8706,  1.6329, -1.3513,  ..., -0.9255,  3.6995,  2.5979]],\n",
      "\n",
      "        [[ 2.7931, -7.2939,  1.6587,  ...,  7.3234,  1.2685,  3.8642],\n",
      "         [ 2.1206, -2.9364,  0.8898,  ...,  1.9960,  1.8410,  5.2092],\n",
      "         [ 0.6019,  2.7747,  1.3182,  ..., -1.6857,  0.4166,  4.0243],\n",
      "         ...,\n",
      "         [ 0.3904, -3.1125,  0.5269,  ...,  5.1850,  3.0472,  4.0244],\n",
      "         [ 1.0793, -1.8978,  1.9187,  ...,  2.1951,  0.3583,  4.0864],\n",
      "         [ 1.2242,  1.1126,  0.4291,  ...,  0.0231, -2.2217,  4.6961]],\n",
      "\n",
      "        [[ 0.0615, -2.1883, -2.2104,  ..., -1.3823, -3.9590,  5.5250],\n",
      "         [ 3.7083, -1.0799,  2.0769,  ...,  3.0421, -6.5838,  3.3764],\n",
      "         [ 0.7286,  0.2879,  3.6298,  ...,  1.2053, -2.5789, -0.2511],\n",
      "         ...,\n",
      "         [ 1.1873, -0.9473, -0.4006,  ...,  1.8912, -2.7444,  1.7485],\n",
      "         [-0.5033, -3.4082, -2.1160,  ...,  0.5764, -1.9001,  4.1329],\n",
      "         [ 1.1170, -4.5675,  2.5442,  ...,  3.9792, -3.8214,  4.7604]]],\n",
      "       grad_fn=<BmmBackward>), tensor([[[  8.5813,   1.7091,   1.0079,  ...,  -2.4559,  -0.5100,  -0.3495],\n",
      "         [  9.2366,  -0.6330,  -2.5282,  ...,   1.7831,  -0.1068,  -2.5651],\n",
      "         [  9.3094,  -1.0407,  -7.0419,  ...,  -4.4405,  -0.6273,  -0.5137],\n",
      "         ...,\n",
      "         [ 12.4751,  -3.3660,  -7.5103,  ...,  -0.6140,  -2.1083,  -3.8668],\n",
      "         [  4.9651,   1.4158,   0.2671,  ...,   0.7320,  -0.9328,  -1.7174],\n",
      "         [  7.3247,   1.7336,   1.1919,  ...,   0.4534,  -0.0693,  -2.2685]],\n",
      "\n",
      "        [[ -2.0244,  -3.2649,  -1.1579,  ...,   2.6304,   2.2828,   8.0304],\n",
      "         [ -1.0997,  -3.0471,  -0.2557,  ...,   3.8781,   2.0953,   4.7386],\n",
      "         [ -1.0086,  -2.5613,  -2.1782,  ...,   5.6817,   3.5027,   5.5471],\n",
      "         ...,\n",
      "         [  0.2852,   0.8117,  -4.5793,  ...,   7.3350,  -0.3374,   5.3211],\n",
      "         [ -0.3553,  -5.1950,  -1.3830,  ...,   8.2044,   2.9499,   5.6516],\n",
      "         [ -0.2842,  -1.8164,  -5.0917,  ...,   9.1021,   2.3699,   4.0814]],\n",
      "\n",
      "        [[  4.4206,  -1.4072,  -5.3381,  ...,  10.8317, -10.2045,   6.2040],\n",
      "         [  6.8034,   0.9418,  -3.7861,  ...,   9.4205,  -8.1179,   3.6642],\n",
      "         [  5.7657,   1.7915,  -3.4853,  ...,   3.3312,  -7.1392,   2.0671],\n",
      "         ...,\n",
      "         [  4.6320,   3.4470,  -1.0664,  ...,   1.9053,  -8.1568,   2.0975],\n",
      "         [  7.4702,  -1.6768,  -4.6290,  ...,   9.1816, -11.6281,   3.4968],\n",
      "         [  7.9670,   4.3166,  -1.4205,  ...,   3.5622,  -6.9728,   4.3394]]],\n",
      "       grad_fn=<BmmBackward>)] as each shape torch.Size([3, 128, 512])\n",
      "product of Wo and heads out tensor([[[ 2.0545e+00, -2.4754e+00, -3.5524e+00,  ...,  4.0211e+00,\n",
      "           3.1847e+00,  4.2065e-01],\n",
      "         [-6.9532e-01, -1.4287e+00, -1.7219e-01,  ..., -9.1413e-01,\n",
      "           6.6606e-01,  2.0208e+00],\n",
      "         [ 1.1617e+00,  3.8423e+00,  1.4042e+00,  ..., -4.2623e+00,\n",
      "           9.1834e-02, -1.1072e+00],\n",
      "         ...,\n",
      "         [ 1.1668e+00, -7.0594e-03, -9.6512e-01,  ...,  1.3306e+00,\n",
      "          -2.2121e-01,  1.5974e-01],\n",
      "         [ 1.6093e-01,  2.1723e+00,  6.5916e-01,  ..., -1.4216e+00,\n",
      "          -3.4042e-01, -3.3249e+00],\n",
      "         [-7.0371e-01, -3.9580e+00, -5.4338e+00,  ...,  5.2115e+00,\n",
      "           2.3104e+00,  1.5050e+00]],\n",
      "\n",
      "        [[ 9.8817e-01, -2.3372e+00, -2.1888e+00,  ...,  3.1698e+00,\n",
      "          -6.5178e-01,  1.8757e-01],\n",
      "         [-2.0703e+00, -2.0823e+00, -3.0715e+00,  ..., -1.5716e+00,\n",
      "           1.6378e+00, -1.5863e+00],\n",
      "         [ 1.4463e+00,  1.8688e+00,  1.5694e+00,  ...,  1.6199e+00,\n",
      "           1.0131e+00,  3.1107e-01],\n",
      "         ...,\n",
      "         [ 2.6072e+00, -1.0465e+00, -1.2574e+00,  ...,  3.8761e+00,\n",
      "          -7.8594e-01,  2.2049e+00],\n",
      "         [ 2.3454e+00,  2.7772e-01,  4.1770e-01,  ...,  1.8374e+00,\n",
      "           8.4441e-01,  2.6583e+00],\n",
      "         [ 2.3211e+00,  1.8893e-01, -2.7632e+00,  ...,  9.1630e-01,\n",
      "           3.8932e-01, -1.4774e+00]],\n",
      "\n",
      "        [[ 5.7116e+00, -5.1860e+00, -8.4069e+00,  ...,  4.1469e+00,\n",
      "           3.9450e+00,  1.6356e+00],\n",
      "         [-1.5969e+00, -8.9213e-01, -1.6986e+00,  ...,  3.2086e+00,\n",
      "           6.1772e-01,  1.4641e+00],\n",
      "         [-1.0839e+00,  4.4202e+00,  1.8752e+00,  ..., -2.8631e+00,\n",
      "           2.2265e+00,  1.3844e+00],\n",
      "         ...,\n",
      "         [ 2.5012e+00, -3.1877e+00, -2.5273e+00,  ...,  1.6396e+00,\n",
      "           2.5220e+00,  3.8139e-01],\n",
      "         [-5.5464e+00,  1.2191e+00,  6.2384e+00,  ..., -3.3764e+00,\n",
      "          -1.8027e-01, -3.2732e-01],\n",
      "         [ 2.7046e+00, -3.0055e+00, -4.6977e+00,  ..., -7.1476e-03,\n",
      "           7.4355e-01, -6.7531e-01]]], grad_fn=<AddBackward0>) as the shape torch.Size([3, 512, 512])\n"
     ]
    }
   ],
   "source": [
    "QW, KW, VW = projection(K, Q, V)\n",
    "attention, KW = multi_head_attention(KW, QW, VW, h, scale_factor)"
   ]
  },
  {
   "cell_type": "code",
   "execution_count": 32,
   "metadata": {},
   "outputs": [
    {
     "data": {
      "text/plain": [
       "(tensor([[[-0.8309,  0.8188,  0.1869,  ...,  1.4639, -1.3782, -0.0394],\n",
       "          [ 0.8094, -0.5854,  0.0703,  ..., -0.4338, -0.6799,  3.0538],\n",
       "          [ 0.9200, -0.8787, -0.1304,  ..., -0.9378,  0.8689, -0.2249],\n",
       "          ...,\n",
       "          [-0.7455, -0.9047,  1.1630,  ...,  1.0632,  0.0449,  0.2220],\n",
       "          [ 0.0277,  0.0853,  0.8087,  ...,  0.0273, -0.5969,  1.5023],\n",
       "          [ 0.3160, -0.3843,  0.6898,  ..., -0.5718,  0.0507, -1.4805]],\n",
       " \n",
       "         [[-1.1273, -1.2643,  2.4867,  ...,  0.7259,  0.6021,  1.6078],\n",
       "          [ 1.5451, -0.0376,  0.0814,  ..., -0.0448,  1.7424, -0.9346],\n",
       "          [ 1.2387,  0.1706,  2.4711,  ...,  0.9402,  0.8276,  0.9205],\n",
       "          ...,\n",
       "          [-0.1403,  0.9230,  1.9375,  ...,  0.5001, -0.3076, -1.1720],\n",
       "          [-0.1403,  0.9230,  1.9375,  ...,  0.5001, -0.3076, -1.1720],\n",
       "          [ 1.5451, -0.0376,  0.0814,  ..., -0.0448,  1.7424, -0.9346]],\n",
       " \n",
       "         [[ 0.0273, -1.0413, -0.9564,  ...,  0.4540, -0.9405,  1.7631],\n",
       "          [-0.1271, -1.1015,  2.5106,  ..., -0.5755,  0.6835, -1.7866],\n",
       "          [-0.3711,  0.4668,  1.2310,  ..., -0.0281,  1.9410,  0.1853],\n",
       "          ...,\n",
       "          [ 0.9537,  0.0355,  1.4237,  ...,  0.4941,  1.4326,  1.0131],\n",
       "          [-1.0619, -0.8125,  1.1246,  ..., -0.2988, -0.1238, -0.4456],\n",
       "          [ 1.6612,  0.4428, -1.0430,  ...,  0.1708,  0.2790, -0.1863]]],\n",
       "        grad_fn=<CatBackward>), torch.Size([3, 256, 512]))"
      ]
     },
     "execution_count": 32,
     "metadata": {},
     "output_type": "execute_result"
    }
   ],
   "source": [
    "K_V = torch.cat([K, V], dim=1)\n",
    "K_V, K_V.shape"
   ]
  },
  {
   "cell_type": "markdown",
   "metadata": {},
   "source": [
    "Residual 1"
   ]
  },
  {
   "cell_type": "code",
   "execution_count": 33,
   "metadata": {},
   "outputs": [
    {
     "data": {
      "text/plain": [
       "(tensor([[[ 2.7903, -0.5768, -3.4912,  ...,  3.8912,  2.6864,  0.9129],\n",
       "          [-0.5389, -1.8683, -0.1777,  ..., -0.2810,  0.0689,  1.8588],\n",
       "          [ 1.4425,  3.9677,  1.7216,  ..., -4.0405,  0.5161, -1.7574],\n",
       "          ...,\n",
       "          [ 0.5261,  0.2725,  0.3553,  ...,  1.1955,  0.0947, -0.0403],\n",
       "          [ 0.4477,  1.9714,  0.6206,  ..., -1.4751, -0.2165, -2.2941],\n",
       "          [-0.4186, -4.1258, -6.2234,  ...,  4.5531,  3.5777,  0.9043]],\n",
       " \n",
       "         [[ 1.7743, -2.5963, -2.6039,  ...,  3.4203, -1.3798, -0.4755],\n",
       "          [-1.7295, -1.0272, -2.7859,  ..., -2.1213,  0.7021, -1.6261],\n",
       "          [ 1.9148,  2.4852,  1.8261,  ...,  1.9590,  1.6403,  0.0133],\n",
       "          ...,\n",
       "          [ 2.2865, -1.6690, -1.7723,  ...,  3.0847, -1.1630,  3.1391],\n",
       "          [ 2.6361,  1.2904,  0.8341,  ...,  2.1515,  0.7531,  1.7403],\n",
       "          [ 1.1323, -0.2810, -2.9839,  ...,  1.0722, -0.2739, -1.6767]],\n",
       " \n",
       "         [[ 6.0265, -4.4544, -8.3523,  ...,  4.4660,  3.5781,  0.1616],\n",
       "          [-0.4338, -1.8842, -1.5879,  ...,  3.5460,  0.8559,  1.7672],\n",
       "          [-0.5179,  3.4682,  1.4678,  ..., -1.8238,  2.0757,  2.3170],\n",
       "          ...,\n",
       "          [ 2.7507, -3.8305, -2.9241,  ...,  1.4111,  4.1324,  0.4203],\n",
       "          [-4.5828,  1.2848,  6.7043,  ..., -3.0618, -0.8532, -0.9746],\n",
       "          [ 2.7993, -3.3641, -4.6750,  ..., -0.1179,  0.9096,  0.2642]]],\n",
       "        grad_fn=<AddBackward0>), torch.Size([3, 512, 512]))"
      ]
     },
     "execution_count": 33,
     "metadata": {},
     "output_type": "execute_result"
    }
   ],
   "source": [
    "resout = attention + KW\n",
    "resout, resout.shape"
   ]
  },
  {
   "cell_type": "markdown",
   "metadata": {},
   "source": [
    "Normalize 1"
   ]
  },
  {
   "cell_type": "markdown",
   "metadata": {},
   "source": [
    "https://pytorch.org/docs/stable/nn.html#torch.nn.LayerNorm"
   ]
  },
  {
   "cell_type": "code",
   "execution_count": 34,
   "metadata": {},
   "outputs": [
    {
     "data": {
      "text/plain": [
       "LayerNorm(torch.Size([512]), eps=1e-05, elementwise_affine=True)"
      ]
     },
     "execution_count": 34,
     "metadata": {},
     "output_type": "execute_result"
    }
   ],
   "source": [
    "norm1 = torch.nn.LayerNorm(normalized_shape=dmodel)  # only for the last dim or [dmodel, dmodel] for the last 2 dims\n",
    "norm1"
   ]
  },
  {
   "cell_type": "code",
   "execution_count": 35,
   "metadata": {},
   "outputs": [
    {
     "data": {
      "text/plain": [
       "(tensor([[[ 1.0539, -0.1882, -1.2632,  ...,  1.4600,  1.0156,  0.3614],\n",
       "          [-0.4201, -1.2955, -0.1823,  ..., -0.2503, -0.0199,  1.1587],\n",
       "          [ 0.7277,  2.0468,  0.8735,  ..., -2.1363,  0.2438, -0.9437],\n",
       "          ...,\n",
       "          [ 0.2568,  0.1194,  0.1643,  ...,  0.6195,  0.0231, -0.0501],\n",
       "          [ 0.3181,  1.2356,  0.4222,  ..., -0.8398, -0.0819, -1.3330],\n",
       "          [-0.1196, -1.2628, -1.9096,  ...,  1.4135,  1.1127,  0.2883]],\n",
       " \n",
       "         [[ 0.8734, -1.3490, -1.3528,  ...,  1.7104, -0.7304, -0.2706],\n",
       "          [-0.7962, -0.4750, -1.2794,  ..., -0.9755,  0.3160, -0.7489],\n",
       "          [ 1.3141,  1.6899,  1.2556,  ...,  1.3432,  1.1332,  0.0612],\n",
       "          ...,\n",
       "          [ 1.0824, -0.7493, -0.7971,  ...,  1.4521, -0.5150,  1.4773],\n",
       "          [ 1.8031,  0.8672,  0.5499,  ...,  1.4661,  0.4935,  1.1801],\n",
       "          [ 0.5438, -0.0960, -1.3194,  ...,  0.5166, -0.0927, -0.7277]],\n",
       " \n",
       "         [[ 1.9571, -1.4384, -2.7012,  ...,  1.4515,  1.1639,  0.0570],\n",
       "          [-0.2279, -1.1706, -0.9780,  ...,  2.3590,  0.6105,  1.2028],\n",
       "          [-0.2701,  1.9491,  0.8354,  ..., -0.9971,  1.1738,  1.3082],\n",
       "          ...,\n",
       "          [ 1.2181, -1.7367, -1.3298,  ...,  0.6167,  1.8385,  0.1718],\n",
       "          [-1.5033,  0.4157,  2.1882,  ..., -1.0059, -0.2835, -0.3233],\n",
       "          [ 1.2354, -1.4406, -2.0097,  ..., -0.0312,  0.4149,  0.1347]]],\n",
       "        grad_fn=<TransposeBackward0>), torch.Size([3, 512, 512]))"
      ]
     },
     "execution_count": 35,
     "metadata": {},
     "output_type": "execute_result"
    }
   ],
   "source": [
    "norm1out = norm1(resout.transpose(1, 0)).transpose(0, 1)  # BatchNorm Input: (N, C, L) Output: (N, C, L)\n",
    "norm1out, norm1out.shape"
   ]
  },
  {
   "cell_type": "markdown",
   "metadata": {},
   "source": [
    "Feed Forward"
   ]
  },
  {
   "cell_type": "code",
   "execution_count": 36,
   "metadata": {},
   "outputs": [
    {
     "data": {
      "text/plain": [
       "Linear(in_features=512, out_features=512, bias=True)"
      ]
     },
     "execution_count": 36,
     "metadata": {},
     "output_type": "execute_result"
    }
   ],
   "source": [
    "feedforward = torch.nn.Linear(in_features=dmodel, out_features=dmodel)\n",
    "feedforward"
   ]
  },
  {
   "cell_type": "code",
   "execution_count": 37,
   "metadata": {},
   "outputs": [
    {
     "data": {
      "text/plain": [
       "(tensor([[[ 1.1402e+00, -7.6056e-01, -7.1835e-01,  ..., -1.0897e+00,\n",
       "            1.8222e-01, -2.4935e-01],\n",
       "          [-6.3958e-01,  8.3822e-01, -7.4439e-01,  ...,  2.9044e-01,\n",
       "            2.4172e-01,  5.5284e-02],\n",
       "          [ 6.9019e-02, -8.2964e-02,  1.7937e+00,  ..., -1.0105e-01,\n",
       "            4.0699e-01,  5.7013e-01],\n",
       "          ...,\n",
       "          [ 5.0293e-01,  5.4457e-01, -2.1001e-01,  ...,  1.6491e-02,\n",
       "           -1.3682e-01,  6.3406e-01],\n",
       "          [-2.6808e-01,  4.6463e-01,  1.0714e+00,  ..., -6.2425e-02,\n",
       "           -5.3462e-01, -4.6472e-03],\n",
       "          [ 1.0792e-01,  1.0046e+00, -4.2522e-01,  ...,  6.8127e-01,\n",
       "            1.3642e-01,  2.4834e-01]],\n",
       " \n",
       "         [[ 5.1703e-01,  4.8112e-01,  1.3112e-01,  ..., -4.8302e-01,\n",
       "           -2.9632e-01,  1.3697e-01],\n",
       "          [ 5.6267e-02,  9.5840e-02,  4.5286e-01,  ...,  4.1746e-01,\n",
       "            5.4327e-01,  2.1566e-01],\n",
       "          [-7.5482e-02,  8.8496e-01,  2.0172e-01,  ..., -9.6082e-02,\n",
       "            1.8461e-01,  8.8107e-02],\n",
       "          ...,\n",
       "          [ 1.0138e+00, -7.3933e-01, -3.9856e-01,  ..., -8.6824e-01,\n",
       "           -1.7019e-01, -1.7462e-01],\n",
       "          [-2.6386e-01, -2.9531e-01, -9.5157e-01,  ..., -3.3419e-01,\n",
       "            1.5220e-01,  6.5485e-01],\n",
       "          [ 7.5198e-01, -5.0619e-01,  1.2574e-02,  ..., -8.6394e-01,\n",
       "           -5.2633e-01, -2.9299e-01]],\n",
       " \n",
       "         [[ 1.0823e+00,  2.9543e-01, -3.5280e-01,  ..., -4.2583e-01,\n",
       "            1.4932e-01,  1.8649e-01],\n",
       "          [-9.6714e-01, -1.0524e+00,  4.8318e-01,  ...,  2.7975e-01,\n",
       "           -2.2815e-01, -2.8092e-01],\n",
       "          [-7.8192e-01,  4.9891e-01,  8.9389e-01,  ...,  2.4939e-01,\n",
       "           -3.1735e-01,  4.4482e-04],\n",
       "          ...,\n",
       "          [ 1.2245e+00, -6.8490e-01, -6.9217e-01,  ..., -5.3971e-01,\n",
       "           -1.8809e-01,  4.5432e-01],\n",
       "          [-1.0156e+00,  3.9680e-01,  1.9945e-01,  ...,  1.1830e+00,\n",
       "            2.0365e-01,  1.4470e-01],\n",
       "          [ 8.8614e-01,  6.2030e-01, -3.5898e-02,  ..., -1.4990e-01,\n",
       "            2.5153e-01, -1.7362e-01]]], grad_fn=<AddBackward0>),\n",
       " torch.Size([3, 512, 512]))"
      ]
     },
     "execution_count": 37,
     "metadata": {},
     "output_type": "execute_result"
    }
   ],
   "source": [
    "ffout = feedforward(norm1out)\n",
    "ffout, ffout.shape"
   ]
  },
  {
   "cell_type": "markdown",
   "metadata": {},
   "source": [
    "Residual 2"
   ]
  },
  {
   "cell_type": "code",
   "execution_count": 38,
   "metadata": {},
   "outputs": [
    {
     "data": {
      "text/plain": [
       "(tensor([[[ 3.9306, -1.3374, -4.2095,  ...,  2.8015,  2.8687,  0.6635],\n",
       "          [-1.1785, -1.0300, -0.9220,  ...,  0.0094,  0.3106,  1.9141],\n",
       "          [ 1.5115,  3.8848,  3.5153,  ..., -4.1415,  0.9231, -1.1873],\n",
       "          ...,\n",
       "          [ 1.0290,  0.8171,  0.1453,  ...,  1.2120, -0.0422,  0.5937],\n",
       "          [ 0.1797,  2.4360,  1.6920,  ..., -1.5375, -0.7511, -2.2987],\n",
       "          [-0.3107, -3.1212, -6.6486,  ...,  5.2343,  3.7141,  1.1526]],\n",
       " \n",
       "         [[ 2.2913, -2.1152, -2.4728,  ...,  2.9373, -1.6762, -0.3385],\n",
       "          [-1.6732, -0.9314, -2.3330,  ..., -1.7038,  1.2454, -1.4104],\n",
       "          [ 1.8394,  3.3701,  2.0278,  ...,  1.8630,  1.8249,  0.1015],\n",
       "          ...,\n",
       "          [ 3.3003, -2.4083, -2.1708,  ...,  2.2165, -1.3332,  2.9645],\n",
       "          [ 2.3722,  0.9951, -0.1175,  ...,  1.8173,  0.9053,  2.3952],\n",
       "          [ 1.8843, -0.7872, -2.9714,  ...,  0.2083, -0.8002, -1.9697]],\n",
       " \n",
       "         [[ 7.1088, -4.1589, -8.7051,  ...,  4.0402,  3.7274,  0.3481],\n",
       "          [-1.4010, -2.9365, -1.1047,  ...,  3.8257,  0.6278,  1.4863],\n",
       "          [-1.2999,  3.9671,  2.3617,  ..., -1.5744,  1.7583,  2.3175],\n",
       "          ...,\n",
       "          [ 3.9752, -4.5154, -3.6162,  ...,  0.8714,  3.9443,  0.8746],\n",
       "          [-5.5984,  1.6816,  6.9037,  ..., -1.8788, -0.6495, -0.8299],\n",
       "          [ 3.6855, -2.7438, -4.7109,  ..., -0.2678,  1.1611,  0.0905]]],\n",
       "        grad_fn=<AddBackward0>), torch.Size([3, 512, 512]))"
      ]
     },
     "execution_count": 38,
     "metadata": {},
     "output_type": "execute_result"
    }
   ],
   "source": [
    "ffresout = resout + ffout\n",
    "ffresout, ffresout.shape"
   ]
  },
  {
   "cell_type": "markdown",
   "metadata": {},
   "source": [
    "Normalize 2"
   ]
  },
  {
   "cell_type": "code",
   "execution_count": 39,
   "metadata": {},
   "outputs": [
    {
     "data": {
      "text/plain": [
       "LayerNorm(torch.Size([512]), eps=1e-05, elementwise_affine=True)"
      ]
     },
     "execution_count": 39,
     "metadata": {},
     "output_type": "execute_result"
    }
   ],
   "source": [
    "norm2 = torch.nn.LayerNorm(normalized_shape=dmodel)\n",
    "norm2"
   ]
  },
  {
   "cell_type": "code",
   "execution_count": 40,
   "metadata": {},
   "outputs": [
    {
     "data": {
      "text/plain": [
       "(tensor([[[ 1.4174, -0.4490, -1.4666,  ...,  1.0173,  1.0411,  0.2599],\n",
       "          [-0.8251, -0.7327, -0.6656,  ..., -0.0862,  0.1012,  1.0985],\n",
       "          [ 0.7506,  1.9548,  1.7673,  ..., -2.1175,  0.4521, -0.6187],\n",
       "          ...,\n",
       "          [ 0.4894,  0.3791,  0.0292,  ...,  0.5848, -0.0685,  0.2627],\n",
       "          [ 0.1618,  1.4356,  1.0156,  ..., -0.8075, -0.3636, -1.2373],\n",
       "          [-0.0994, -0.9614, -2.0433,  ...,  1.6014,  1.1351,  0.3495]],\n",
       " \n",
       "         [[ 1.0921, -1.0882, -1.2651,  ...,  1.4117, -0.8710, -0.2091],\n",
       "          [-0.7676, -0.4375, -1.0613,  ..., -0.7813,  0.5312, -0.6507],\n",
       "          [ 1.2041,  2.1526,  1.3209,  ...,  1.2187,  1.1951,  0.1272],\n",
       "          ...,\n",
       "          [ 1.5061, -1.0608, -0.9540,  ...,  1.0188, -0.5773,  1.3551],\n",
       "          [ 1.5168,  0.6288, -0.0886,  ...,  1.1590,  0.5709,  1.5316],\n",
       "          [ 0.8644, -0.3117, -1.2732,  ...,  0.1266, -0.3174, -0.8322]],\n",
       " \n",
       "         [[ 2.2625, -1.3427, -2.7973,  ...,  1.2807,  1.1806,  0.0994],\n",
       "          [-0.8056, -1.7502, -0.6234,  ...,  2.4094,  0.4423,  0.9704],\n",
       "          [-0.6972,  2.1676,  1.2943,  ..., -0.8465,  0.9662,  1.2703],\n",
       "          ...,\n",
       "          [ 1.7239, -1.9988, -1.6046,  ...,  0.3630,  1.7104,  0.3644],\n",
       "          [-1.8099,  0.5405,  2.2266,  ..., -0.6090, -0.2121, -0.2703],\n",
       "          [ 1.5568, -1.1634, -1.9956,  ..., -0.1158,  0.4888,  0.0358]]],\n",
       "        grad_fn=<TransposeBackward0>), torch.Size([3, 512, 512]))"
      ]
     },
     "execution_count": 40,
     "metadata": {},
     "output_type": "execute_result"
    }
   ],
   "source": [
    "norm2out = norm2(ffresout.transpose(0, 1)).transpose(0, 1)\n",
    "norm2out, norm2out.shape"
   ]
  },
  {
   "cell_type": "markdown",
   "metadata": {},
   "source": [
    "#### Encoder (MultiHead Attention + Norm + FeedForward + Norm)"
   ]
  },
  {
   "cell_type": "code",
   "execution_count": 41,
   "metadata": {},
   "outputs": [],
   "source": [
    "def encoder(K, Q, V, h):\n",
    "    \"\"\"\n",
    "    params:\n",
    "        - K (batch, inlen(=dk), dmodel)  # Keys (eocoded inputs)\n",
    "        - Q (batch, outlen(=dk), dmodel)  # Queries (decode states)\n",
    "        - V (batch, inlen(=dk), dmodel)  # Values (encoded inputs)\n",
    "        - h (n parallel)\n",
    "    \"\"\"\n",
    "    \n",
    "    batch_size = K.shape[0]\n",
    "    dk = K.shape[1]\n",
    "    print(f'batch size {batch_size}')\n",
    "    \n",
    "    norm1 = torch.nn.BatchNorm1d(num_features=batch_size)\n",
    "    feedforward = torch.nn.Linear(in_features=dmodel, out_features=dmodel)\n",
    "    norm2 = torch.nn.BatchNorm1d(num_features=batch_size)\n",
    "    \n",
    "    # project K, Q, V -> KW, QW, VW\n",
    "    KW, QW, VW = projection(K, Q, V)\n",
    "    \n",
    "    # calculate scale factor\n",
    "    scale_factor = calc_scale_factor(dk)\n",
    "    \n",
    "    print(f'multi head attention')\n",
    "    attention, KW = multi_head_attention(KW, QW, VW, h, scale_factor)\n",
    "    \n",
    "    print(f'res 1 [attention out + KW]')\n",
    "    resout = attention + KW\n",
    "    print(f'res 1 out shape {resout.shape}')\n",
    "    \n",
    "    print(f'norm 1')\n",
    "    norm1out = norm1(resout.transpose(1, 0)).transpose(0, 1) \n",
    "    print(f'norm 1 out shape {norm1out.shape}')\n",
    "    \n",
    "    print(f'feedforward')\n",
    "    ffout = feedforward(norm1out)\n",
    "    print(f'res 2 [feedforward out + norm 1 out]')\n",
    "    ffresout = attention + ffout\n",
    "    print(f'res 2 out shape {ffresout.shape}')\n",
    "    \n",
    "    print(f'norm 2')\n",
    "    norm2out = norm2(ffresout.transpose(0, 1)).transpose(0, 1)\n",
    "    print(f'norm 2 out shape {norm2out.shape}')\n",
    "    \n",
    "    out = norm2out\n",
    "    print(f'encoder out shape {out.shape}')\n",
    "    \n",
    "    return out"
   ]
  },
  {
   "cell_type": "code",
   "execution_count": 42,
   "metadata": {
    "scrolled": false
   },
   "outputs": [
    {
     "name": "stdout",
     "output_type": "stream",
     "text": [
      "batch size 3\n",
      "project K(torch.Size([3, 128, 512])), Q(torch.Size([3, 128, 512])), V(torch.Size([3, 128, 512])) -> KW(torch.Size([3, 512, 512])), QW(torch.Size([3, 512, 512])), VW(torch.Size([3, 512, 512]))\n",
      "calculate scale factor by 1 / math.sqrt(128) = 0.08838834764831843\n",
      "multi head attention\n"
     ]
    },
    {
     "name": "stderr",
     "output_type": "stream",
     "text": [
      "/anaconda3/envs/core/lib/python3.7/site-packages/ipykernel_launcher.py:21: UserWarning: Implicit dimension choice for softmax has been deprecated. Change the call to include dim=X as an argument.\n"
     ]
    },
    {
     "name": "stdout",
     "output_type": "stream",
     "text": [
      "QW torch.Size([3, 512, 512])\n",
      "n parallel 4\n",
      "total_size/n_parallel 128\n",
      "QWi torch.Size([3, 128, 512])\n",
      "KWi torch.Size([3, 128, 512])\n",
      "VWi torch.Size([3, 128, 512])\n",
      "trying to culculate dot product attention for 4 heads. scale factor is 0.08838834764831843.\n",
      "scaled dot product attention\n",
      "KW torch.Size([3, 128, 512])\n",
      "QW torch.Size([3, 128, 512])\n",
      "VW torch.Size([3, 128, 512])\n",
      "scaled dot product attention\n",
      "KW torch.Size([3, 128, 512])\n",
      "QW torch.Size([3, 128, 512])\n",
      "VW torch.Size([3, 128, 512])\n",
      "scaled dot product attention\n",
      "KW torch.Size([3, 128, 512])\n",
      "QW torch.Size([3, 128, 512])\n",
      "VW torch.Size([3, 128, 512])\n",
      "scaled dot product attention\n",
      "KW torch.Size([3, 128, 512])\n",
      "QW torch.Size([3, 128, 512])\n",
      "VW torch.Size([3, 128, 512])\n",
      "4 heads [tensor([[[ 2.0305, -0.6555, -0.9424,  ..., -0.3195, -0.1145, -2.1183],\n",
      "         [ 1.0672,  1.4086,  1.3938,  ..., -1.3047, -0.1693, -1.4427],\n",
      "         [-0.6447,  0.2568,  0.9310,  ..., -2.8648, -0.4532, -0.6200],\n",
      "         ...,\n",
      "         [-0.5578, -1.1043,  1.8605,  ...,  0.3534, -0.1643,  1.3052],\n",
      "         [-0.9274, -0.1364,  1.5654,  ..., -1.7434, -1.7407, -0.7275],\n",
      "         [-1.5339,  2.5957,  1.0756,  ..., -1.3616, -1.4686, -3.6492]],\n",
      "\n",
      "        [[ 2.7700,  6.3371,  5.9008,  ..., -4.1172, -1.9547,  3.7430],\n",
      "         [ 1.7975,  4.7025,  2.6693,  ..., -1.8202, -0.8239, -0.2891],\n",
      "         [ 3.1214,  2.3624,  1.9331,  ...,  1.4486,  1.8742, -1.5107],\n",
      "         ...,\n",
      "         [ 3.5116,  0.7325,  4.1549,  ..., -1.7626, -0.6037,  2.2410],\n",
      "         [ 2.2642,  4.1479,  0.5204,  ..., -1.6667,  2.3621, -0.9792],\n",
      "         [-0.5026,  5.3862,  3.1281,  ..., -3.0821, -1.8254,  0.8162]],\n",
      "\n",
      "        [[ 4.2816,  1.4742, -3.7682,  ..., -1.2835, -0.5062, -2.7869],\n",
      "         [ 1.6769,  2.0304, -0.2435,  ..., -2.1212, -0.9890, -3.7910],\n",
      "         [ 3.1781,  0.7467, -2.4306,  ..., -1.0247, -3.2271, -6.3017],\n",
      "         ...,\n",
      "         [ 7.0135,  6.9250,  1.3997,  ..., -3.8067, -0.3388, -4.3852],\n",
      "         [ 0.8015,  3.8488,  0.7176,  ..., -3.2588, -2.4907, -6.0630],\n",
      "         [ 0.6664,  4.5627, -0.7231,  ..., -0.9299, -3.3787, -7.0542]]],\n",
      "       grad_fn=<BmmBackward>), tensor([[[-4.0060,  0.1006,  3.7780,  ...,  2.8052,  0.4372, -2.5670],\n",
      "         [-3.2921,  0.0110, -0.6173,  ...,  1.8945,  0.3326, -3.6428],\n",
      "         [ 0.4236,  0.1222,  0.6618,  ..., -1.3302,  0.8476, -2.6036],\n",
      "         ...,\n",
      "         [-4.0217,  3.8119,  4.3125,  ..., -2.4676,  2.4692, -1.7687],\n",
      "         [-4.0824,  5.8755, -1.7735,  ...,  1.3744,  0.4255, -3.3505],\n",
      "         [-0.8681,  2.1706,  0.1494,  ..., -0.7686,  0.8615, -4.9308]],\n",
      "\n",
      "        [[-0.8243,  3.7139,  3.6638,  ..., -4.0309, -2.3139, -4.1023],\n",
      "         [ 0.5429,  0.5512,  3.5203,  ..., -5.0527, -1.9038, -3.8259],\n",
      "         [-2.7921, -0.8869,  2.5282,  ..., -3.9160,  2.6589, -2.8262],\n",
      "         ...,\n",
      "         [-1.6148,  1.3279,  4.7125,  ..., -6.0349,  0.0651, -5.6958],\n",
      "         [ 0.4349,  5.6533,  2.0561,  ..., -6.4065,  0.2618, -3.5269],\n",
      "         [ 3.0811,  3.1289,  3.0786,  ..., -4.3414, -3.7726, -5.2817]],\n",
      "\n",
      "        [[ 1.9547,  2.5460,  2.8160,  ...,  0.7460, -2.5545,  3.4578],\n",
      "         [-2.4058,  0.1970,  1.7672,  ...,  1.0082,  0.3137,  2.3828],\n",
      "         [-0.1789,  1.3764,  1.9339,  ...,  0.6500, -0.9779,  0.5264],\n",
      "         ...,\n",
      "         [ 1.9274,  2.2745,  2.9043,  ...,  0.6044, -1.4066,  0.1090],\n",
      "         [-0.7698,  2.6422,  3.4311,  ..., -1.8803, -0.7036, -0.0451],\n",
      "         [ 1.8069, -1.6299,  2.0163,  ..., -1.8991,  2.8856,  0.9662]]],\n",
      "       grad_fn=<BmmBackward>), tensor([[[ 3.6066, -0.2897,  0.7807,  ..., -3.8600,  2.3272, -6.4417],\n",
      "         [ 1.0243, -1.9933,  2.9139,  ...,  0.5012,  6.4380, -2.1725],\n",
      "         [ 2.0222,  1.5359,  0.4762,  ...,  0.3863,  3.3411, -2.8375],\n",
      "         ...,\n",
      "         [ 0.1047, -1.1896,  3.8389,  ..., -1.0510,  4.0061, -1.6493],\n",
      "         [ 0.7937, -1.1182, -0.9413,  ...,  3.0295,  3.2677, -3.2768],\n",
      "         [ 2.0862, -3.3645,  3.4544,  ...,  0.6731,  3.6266, -1.8290]],\n",
      "\n",
      "        [[-0.0304, -0.1797,  2.2799,  ..., -3.1438,  2.0568, -1.6474],\n",
      "         [ 2.0677,  0.1339,  0.9666,  ..., -2.3786, -2.8854,  0.5909],\n",
      "         [-3.9147,  1.0484, -0.2414,  ..., -2.2810,  0.6872,  0.0363],\n",
      "         ...,\n",
      "         [ 2.2684,  0.6676,  1.3307,  ..., -3.9277, -1.0274, -1.6389],\n",
      "         [ 1.4013,  4.3757,  2.1234,  ..., -3.3131,  0.4126,  2.7189],\n",
      "         [ 2.6216,  0.6795,  3.2020,  ..., -4.7652, -1.9656,  1.6847]],\n",
      "\n",
      "        [[ 1.0823,  3.4834,  1.8470,  ..., -1.4116,  3.8198,  0.0911],\n",
      "         [-1.0483,  1.4752, -1.1389,  ..., -2.1535,  0.0988, -2.6581],\n",
      "         [ 2.8672,  3.3824,  2.8563,  ...,  2.9163, -1.4794,  1.1706],\n",
      "         ...,\n",
      "         [ 2.1870,  2.3506,  1.9769,  ..., -1.4384,  3.4607, -0.2927],\n",
      "         [ 0.9264,  2.7580,  4.2658,  ...,  0.3510, -1.4935,  0.3929],\n",
      "         [-0.8405,  2.7307,  1.4670,  ...,  0.2817,  0.6940,  4.2791]]],\n",
      "       grad_fn=<BmmBackward>), tensor([[[-0.7426, -1.0106,  3.3137,  ..., -2.8713,  3.0207, -2.6711],\n",
      "         [-3.1332, -1.3508,  4.9161,  ..., -4.9001,  2.5219, -2.2887],\n",
      "         [ 2.9124, -1.2236,  5.4026,  ..., -1.5958,  3.0566, -2.0689],\n",
      "         ...,\n",
      "         [-0.2591, -0.5340,  4.0895,  ..., -1.1087,  2.2401,  1.1868],\n",
      "         [-0.8276, -1.9620,  2.7812,  ...,  1.2161,  2.4093, -0.7146],\n",
      "         [ 2.5402, -2.0106,  3.6681,  ..., -8.6261, -0.1761, -2.8441]],\n",
      "\n",
      "        [[ 3.4314, -1.7271,  3.5686,  ..., -5.1851,  2.5056, -4.5427],\n",
      "         [-4.1753, -2.6298,  1.6030,  ..., -6.0895, -0.1990, -5.6077],\n",
      "         [ 1.3762, -2.1372,  3.4576,  ..., -5.2114,  0.9670, -2.8615],\n",
      "         ...,\n",
      "         [-5.5551, -5.9874,  0.6152,  ..., -4.9544,  3.1787, -1.4893],\n",
      "         [ 0.3557, -3.2261,  1.4103,  ..., -4.7440,  1.7987, -8.7833],\n",
      "         [ 1.0850, -3.9189,  3.9404,  ..., -2.0766,  4.5601, -4.1286]],\n",
      "\n",
      "        [[ 3.1337,  4.1528,  6.4357,  ...,  2.5974, -2.7440,  2.5995],\n",
      "         [ 0.6487,  2.3346,  8.2974,  ...,  0.9967, -4.8036,  1.2482],\n",
      "         [ 0.9622,  6.3371,  7.4912,  ..., -0.7427, -0.2951,  1.6692],\n",
      "         ...,\n",
      "         [-0.8844,  2.5139,  6.5352,  ...,  3.7410, -5.3304,  2.1370],\n",
      "         [ 1.5830,  1.6257,  8.0022,  ..., -0.7347, -1.7121,  2.4446],\n",
      "         [ 0.8979,  2.3513,  6.7296,  ...,  3.7857, -5.2581,  3.3426]]],\n",
      "       grad_fn=<BmmBackward>)] as each shape torch.Size([3, 128, 512])\n",
      "product of Wo and heads out tensor([[[ 0.6090, -0.3564,  1.1137,  ..., -1.9278,  2.9202, -0.0782],\n",
      "         [ 0.2148, -0.3784,  1.4958,  ...,  1.2926, -1.7329,  3.0130],\n",
      "         [-1.9037, -2.5291,  1.4372,  ..., -2.0888,  4.4636, -1.9582],\n",
      "         ...,\n",
      "         [-0.3917,  1.4918, -0.6913,  ...,  2.5254,  0.4448,  1.6677],\n",
      "         [-4.1673, -0.4844, -0.3335,  ...,  0.0713,  2.5811, -3.1197],\n",
      "         [ 2.6486,  1.2415, -1.7740,  ...,  0.7029, -1.8651,  1.0967]],\n",
      "\n",
      "        [[-0.9732, -1.3497, -3.3791,  ..., -1.7669,  0.6896,  0.4861],\n",
      "         [-3.4858, -0.0341, -0.2767,  ...,  3.3985, -2.4320,  1.6510],\n",
      "         [-2.4914, -2.8647,  0.3717,  ..., -0.3200, -1.7375,  0.9481],\n",
      "         ...,\n",
      "         [ 4.9090,  0.0345, -1.7830,  ...,  0.4229, -0.2200,  1.9165],\n",
      "         [ 2.0974, -1.1540,  0.8313,  ..., -1.1167,  1.2029,  0.2889],\n",
      "         [ 2.6512, -0.0147, -1.6988,  ...,  3.0770, -0.7524,  3.6976]],\n",
      "\n",
      "        [[-0.8987, -0.5940,  0.2994,  ..., -2.2687, -0.3241,  2.7663],\n",
      "         [-3.6255, -1.1067,  0.4541,  ..., -2.0851,  0.5203, -0.1843],\n",
      "         [-3.1557, -2.8979,  2.5020,  ..., -3.5337,  1.7397, -1.0529],\n",
      "         ...,\n",
      "         [ 1.2383, -0.9574,  0.3096,  ...,  0.4567, -0.4191, -0.8001],\n",
      "         [-0.1541,  0.5528, -0.9566,  ..., -0.3952,  1.3885,  0.3266],\n",
      "         [ 1.4713,  1.3050,  0.0397,  ..., -0.5139, -0.6321, -2.8616]]],\n",
      "       grad_fn=<AddBackward0>) as the shape torch.Size([3, 512, 512])\n",
      "res 1 [attention out + KW]\n",
      "res 1 out shape torch.Size([3, 512, 512])\n",
      "norm 1\n",
      "norm 1 out shape torch.Size([3, 512, 512])\n",
      "feedforward\n",
      "res 2 [feedforward out + norm 1 out]\n",
      "res 2 out shape torch.Size([3, 512, 512])\n",
      "norm 2\n",
      "norm 2 out shape torch.Size([3, 512, 512])\n",
      "encoder out shape torch.Size([3, 512, 512])\n"
     ]
    }
   ],
   "source": [
    "encout = encoder(K, Q, V, h)"
   ]
  },
  {
   "cell_type": "code",
   "execution_count": 43,
   "metadata": {},
   "outputs": [
    {
     "data": {
      "text/plain": [
       "(tensor([[[ 7.0110e-02, -9.6474e-02,  1.3684e-01,  ..., -2.7241e-01,\n",
       "            3.4175e-01,  2.1745e-02],\n",
       "          [-9.5351e-03, -6.9557e-02,  1.8698e-01,  ...,  1.9591e-01,\n",
       "           -2.4030e-01,  2.9084e-01],\n",
       "          [-1.8618e-01, -3.1237e-01,  2.5253e-01,  ..., -2.2639e-01,\n",
       "            4.6771e-01, -2.2265e-01],\n",
       "          ...,\n",
       "          [-3.6277e-02,  1.4247e-01, -6.0433e-02,  ...,  3.3248e-01,\n",
       "            6.1827e-02,  1.7578e-01],\n",
       "          [-4.5946e-01, -3.3543e-02, -7.3581e-02,  ..., -3.7136e-03,\n",
       "            3.0895e-01, -3.3620e-01],\n",
       "          [ 2.9586e-01,  1.1716e-01, -1.9573e-01,  ...,  1.2259e-01,\n",
       "           -1.6445e-01,  1.1471e-01]],\n",
       " \n",
       "         [[-3.4758e-01, -4.4772e-01, -1.1454e+00,  ..., -6.0366e-01,\n",
       "            2.3221e-01,  1.6448e-01],\n",
       "          [-1.1839e+00,  6.5257e-05, -1.1130e-01,  ...,  1.1822e+00,\n",
       "           -8.3410e-01,  5.3705e-01],\n",
       "          [-8.3367e-01, -9.6653e-01,  1.4459e-01,  ..., -1.1231e-01,\n",
       "           -6.1574e-01,  2.8738e-01],\n",
       "          ...,\n",
       "          [ 1.6288e+00, -1.9998e-02, -5.9117e-01,  ...,  1.3102e-01,\n",
       "           -6.4044e-02,  6.7678e-01],\n",
       "          [ 6.7503e-01, -4.0315e-01,  2.9732e-01,  ..., -3.6228e-01,\n",
       "            3.9137e-01,  1.0060e-01],\n",
       "          [ 8.8558e-01,  1.1019e-02, -5.9181e-01,  ...,  1.0519e+00,\n",
       "           -2.6051e-01,  1.3017e+00]],\n",
       " \n",
       "         [[-1.3972e-01, -4.4191e-02,  1.2127e-02,  ..., -4.2809e-01,\n",
       "           -1.2246e-01,  4.9573e-01],\n",
       "          [-5.7978e-01, -7.7978e-02,  4.7062e-02,  ..., -3.5223e-01,\n",
       "           -1.1382e-02,  1.8315e-03],\n",
       "          [-5.1922e-01, -5.1264e-01,  4.8497e-01,  ..., -5.9433e-01,\n",
       "            1.3361e-01, -5.6396e-02],\n",
       "          ...,\n",
       "          [ 2.1900e-01, -2.6900e-01,  1.2603e-01,  ...,  1.2811e-01,\n",
       "           -2.8374e-02, -1.5744e-01],\n",
       "          [-6.7742e-02,  2.2223e-02, -1.7448e-01,  ..., -1.1904e-01,\n",
       "            2.6370e-01,  7.6699e-02],\n",
       "          [ 2.6413e-01,  1.2556e-01,  4.7623e-02,  ..., -9.3363e-02,\n",
       "           -9.1774e-02, -3.9677e-01]]], grad_fn=<TransposeBackward0>),\n",
       " torch.Size([3, 512, 512]))"
      ]
     },
     "execution_count": 43,
     "metadata": {},
     "output_type": "execute_result"
    }
   ],
   "source": [
    "encout, encout.shape"
   ]
  },
  {
   "cell_type": "markdown",
   "metadata": {},
   "source": [
    "#### Positional Encoding"
   ]
  },
  {
   "cell_type": "markdown",
   "metadata": {},
   "source": [
    "https://datascience.stackexchange.com/questions/51065/what-is-the-positional-encoding-in-the-transformer-model/51225#51225"
   ]
  },
  {
   "cell_type": "markdown",
   "metadata": {},
   "source": [
    "For example, for word $ w $ at position $ pos \\in [0, L-1] $ in the input sequence $ \\boldsymbol{w}=(w_0,\\cdots, w_{L-1}) $\n",
    "\n",
    "$ \\begin{align*}e_{w}' &= e_{w} + \\left[sin\\left(\\frac{pos}{10000^{0}}\\right), cos\\left(\\frac{pos}{10000^{0}}\\right),sin\\left(\\frac{pos}{10000^{2/4}}\\right),cos\\left(\\frac{pos}{10000^{2/4}}\\right)\\right]\\\\\n",
    "&=e_{w} + \\left[sin\\left(pos\\right), cos\\left(pos\\right),sin\\left(\\frac{pos}{100}\\right),cos\\left(\\frac{pos}{100}\\right)\\right]\\\\\n",
    "\\end{align*} $\n",
    "\n",
    "$ \\text{PE}(pos,2i)=sin\\left(\\frac{pos}{10000^{2i/d_{model}}}\\right), $  \n",
    "$ \\text{PE}(pos,2i+1)=cos\\left(\\frac{pos}{10000^{2i/d_{model}}}\\right).$\n",
    "\n",
    "\n",
    "with $ d_{model}=512 $ (thus $ i \\in [0, 255] $)"
   ]
  },
  {
   "cell_type": "code",
   "execution_count": 44,
   "metadata": {},
   "outputs": [
    {
     "name": "stdout",
     "output_type": "stream",
     "text": [
      "100.0\n",
      "0.01\n",
      "0.009999833334166664\n"
     ]
    }
   ],
   "source": [
    "_dmodel = 4\n",
    "i = 1\n",
    "pos = 1\n",
    "print(10000**((2*i)/_dmodel))\n",
    "print(pos/(10000**((2*i)/_dmodel)))\n",
    "print(math.sin(pos/(10000**((2*i)/_dmodel))))"
   ]
  },
  {
   "cell_type": "code",
   "execution_count": 45,
   "metadata": {},
   "outputs": [],
   "source": [
    "def PE(pos, i, dmodel=512):\n",
    "    \"\"\"\n",
    "    \n",
    "    args:\n",
    "        - pos (int)  # pos in [0, L-1] in input sequence w = (w0,...,wL-1)\n",
    "        - i (int) # with dmodel = 512, i in [0, 255]\n",
    "    \"\"\"\n",
    "    if i % 2 == 0:\n",
    "        # PE(pos,2i) = sin(pos/10000^{2i/dmodel})\n",
    "        return math.sin(pos/(10000**((2*i)/dmodel)))\n",
    "    else:\n",
    "        # PE(pos,2i+1) = cos(pos/10000^{2i/dmodel})\n",
    "        return math.cos(pos/(10000**((2*i)/dmodel)))"
   ]
  },
  {
   "cell_type": "code",
   "execution_count": 46,
   "metadata": {},
   "outputs": [
    {
     "data": {
      "text/plain": [
       "0.9999500004166653"
      ]
     },
     "execution_count": 46,
     "metadata": {},
     "output_type": "execute_result"
    }
   ],
   "source": [
    "PE(1, 1, 4)"
   ]
  },
  {
   "cell_type": "code",
   "execution_count": 47,
   "metadata": {},
   "outputs": [
    {
     "name": "stdout",
     "output_type": "stream",
     "text": [
      "0 0 0.0\n",
      "1 1 0.5696950086931313\n",
      "2 2 0.9581443762382829\n",
      "3 3 -0.9010849838078472\n"
     ]
    },
    {
     "data": {
      "text/plain": [
       "[None, None, None, None]"
      ]
     },
     "execution_count": 47,
     "metadata": {},
     "output_type": "execute_result"
    }
   ],
   "source": [
    "[print(f'{pos} {i} {PE(pos, i)}') for pos, i in zip(range(dk), range(_dmodel))]"
   ]
  },
  {
   "cell_type": "code",
   "execution_count": 48,
   "metadata": {},
   "outputs": [
    {
     "name": "stdout",
     "output_type": "stream",
     "text": [
      "generate positional matrix (dk=128, dmodel=512)\n"
     ]
    },
    {
     "data": {
      "text/plain": [
       "(tensor([[ 0.0000e+00,  1.0000e+00,  0.0000e+00,  ...,  1.0000e+00,\n",
       "           0.0000e+00,  1.0000e+00],\n",
       "         [ 8.4147e-01,  5.6969e-01,  8.0196e-01,  ...,  1.0000e+00,\n",
       "           1.0746e-08,  1.0000e+00],\n",
       "         [ 9.0930e-01, -3.5090e-01,  9.5814e-01,  ...,  1.0000e+00,\n",
       "           2.1492e-08,  1.0000e+00],\n",
       "         ...,\n",
       "         [-6.1604e-01,  3.6032e-01, -8.2483e-02,  ...,  1.0000e+00,\n",
       "           1.3433e-06,  1.0000e+00],\n",
       "         [ 3.2999e-01, -5.6138e-01, -8.4850e-01,  ...,  1.0000e+00,\n",
       "           1.3540e-06,  1.0000e+00],\n",
       "         [ 9.7263e-01, -9.9995e-01, -9.3127e-01,  ...,  1.0000e+00,\n",
       "           1.3648e-06,  1.0000e+00]]), torch.Size([128, 512]))"
      ]
     },
     "execution_count": 48,
     "metadata": {},
     "output_type": "execute_result"
    }
   ],
   "source": [
    "def gen_positional_matrix(dk, dmodel=512):\n",
    "    print(f'generate positional matrix (dk={dk}, dmodel={dmodel})')\n",
    "    positional_matrix = torch.zeros((dk, dmodel))\n",
    "    for pos in range(dk):\n",
    "        # rows (=sequence length)\n",
    "        for i in range(dmodel):\n",
    "            # columns (=hidden size)\n",
    "            positional_matrix[pos, i] = PE(pos, i, dmodel)\n",
    "    return positional_matrix\n",
    "positional_matrix = gen_positional_matrix(dk, dmodel) \n",
    "positional_matrix, positional_matrix.shape"
   ]
  },
  {
   "cell_type": "code",
   "execution_count": 54,
   "metadata": {},
   "outputs": [
    {
     "data": {
      "text/plain": [
       "Text(0.5, 1.0, 'Heatmap of Flight Density from 1949 to 1961')"
      ]
     },
     "execution_count": 54,
     "metadata": {},
     "output_type": "execute_result"
    },
    {
     "data": {
      "image/png": "[encoded data removed]",
      "text/plain": [
       "<Figure size 1440x864 with 2 Axes>"
      ]
     },
     "metadata": {
      "needs_background": "light"
     },
     "output_type": "display_data"
    }
   ],
   "source": [
    "fig = plt.figure(figsize=(20,12))\n",
    "r = sns.heatmap(positional_matrix, cmap='YlGnBu')\n",
    "r.set_title(\"Heatmap of Flight Density from 1949 to 1961\")"
   ]
  },
  {
   "cell_type": "code",
   "execution_count": 52,
   "metadata": {},
   "outputs": [
    {
     "name": "stdout",
     "output_type": "stream",
     "text": [
      "generate positional matrix (dk=128, dmodel=512)\n"
     ]
    },
    {
     "data": {
      "text/plain": [
       "(tensor([[[-0.8309,  1.8188,  0.1869,  ...,  2.4639, -1.3782,  0.9606],\n",
       "          [ 1.6509, -0.0157,  0.8722,  ...,  0.5662, -0.6799,  4.0538],\n",
       "          [ 1.8293, -1.2296,  0.8278,  ...,  0.0622,  0.8689,  0.7751],\n",
       "          ...,\n",
       "          [-1.3616, -0.5444,  1.0805,  ...,  2.0632,  0.0449,  1.2220],\n",
       "          [ 0.3577, -0.4760, -0.0398,  ...,  1.0273, -0.5969,  2.5023],\n",
       "          [ 1.2887, -1.3843, -0.2415,  ...,  0.4282,  0.0507, -0.4805]],\n",
       " \n",
       "         [[-1.1273, -0.2643,  2.4867,  ...,  1.7259,  0.6021,  2.6078],\n",
       "          [ 2.3866,  0.5321,  0.8834,  ...,  0.9552,  1.7424,  0.0654],\n",
       "          [ 2.1480, -0.1803,  3.4292,  ...,  1.9402,  0.8276,  1.9205],\n",
       "          ...,\n",
       "          [-0.7563,  1.2833,  1.8551,  ...,  1.5001, -0.3076, -0.1720],\n",
       "          [ 0.1897,  0.3616,  1.0890,  ...,  1.5001, -0.3076, -0.1720],\n",
       "          [ 2.5178, -1.0375, -0.8499,  ...,  0.9552,  1.7424,  0.0654]],\n",
       " \n",
       "         [[ 0.0273, -0.0413, -0.9564,  ...,  1.4540, -0.9405,  2.7631],\n",
       "          [ 0.7144, -0.5318,  3.3126,  ...,  0.4245,  0.6835, -0.7866],\n",
       "          [ 0.5382,  0.1159,  2.1891,  ...,  0.9719,  1.9410,  1.1853],\n",
       "          ...,\n",
       "          [ 0.3377,  0.3958,  1.3412,  ...,  1.4941,  1.4326,  2.0131],\n",
       "          [-0.7319, -1.3738,  0.2761,  ...,  0.7012, -0.1238,  0.5544],\n",
       "          [ 2.6339, -0.5572, -1.9743,  ...,  1.1708,  0.2790,  0.8137]]],\n",
       "        grad_fn=<AddBackward0>), torch.Size([3, 128, 512]))"
      ]
     },
     "execution_count": 52,
     "metadata": {},
     "output_type": "execute_result"
    }
   ],
   "source": [
    "P = gen_positional_matrix(dk, dmodel)\n",
    "K + P, (K + P).shape"
   ]
  },
  {
   "cell_type": "code",
   "execution_count": 55,
   "metadata": {},
   "outputs": [],
   "source": [
    "def positional_encoding(K, Q, V, dk, dmodel):\n",
    "    P = gen_positional_matrix(dk, dmodel)\n",
    "    return K+P, Q+P, V+P"
   ]
  },
  {
   "cell_type": "markdown",
   "metadata": {},
   "source": [
    "#### Masking out to prevent leftward information flow in the decoder"
   ]
  },
  {
   "cell_type": "markdown",
   "metadata": {},
   "source": [
    "#### 3.2.3\n",
    "Similarly, self-attention layers in the decoder allow each position in the decoder to attend to all positions in the decoder up to and including that position. We need to prevent leftward information flow in the decoder to preserve the auto-regressive property. We **implement this inside of scaled dot-product attention** by **masking out (setting to −∞) all values in the input of the softmax** which correspond to illegal connections. See Figure 2."
   ]
  },
  {
   "cell_type": "code",
   "execution_count": 56,
   "metadata": {},
   "outputs": [
    {
     "data": {
      "text/plain": [
       "(tensor([0, 1, 2, 3, 4]), tensor([0, 1, 2, 3, 4]))"
      ]
     },
     "execution_count": 56,
     "metadata": {},
     "output_type": "execute_result"
    }
   ],
   "source": [
    "X_ = torch.arange(5)\n",
    "Y_ = torch.arange(5)\n",
    "X_, Y_"
   ]
  },
  {
   "cell_type": "code",
   "execution_count": 57,
   "metadata": {},
   "outputs": [
    {
     "data": {
      "text/plain": [
       "tensor([[[0, 0, 0, 0, 0],\n",
       "         [0, 1, 0, 0, 0],\n",
       "         [0, 1, 2, 0, 0],\n",
       "         [0, 1, 2, 3, 0],\n",
       "         [0, 1, 2, 3, 4]],\n",
       "\n",
       "        [[0, 0, 0, 0, 0],\n",
       "         [0, 1, 0, 0, 0],\n",
       "         [0, 1, 2, 0, 0],\n",
       "         [0, 1, 2, 3, 0],\n",
       "         [0, 1, 2, 3, 4]]])"
      ]
     },
     "execution_count": 57,
     "metadata": {},
     "output_type": "execute_result"
    }
   ],
   "source": [
    "emb_ = torch.nn.Embedding(10, 10)\n",
    "Xemb_ = X_.repeat(5, 1)\n",
    "Yemb_ = Y_.repeat(5, 1)\n",
    "Xemb_ = torch.tril(Xemb_)\n",
    "QW_ = Xemb_.repeat(2, 1, 1)\n",
    "KW_ = Xemb_.repeat(2, 1, 1)\n",
    "QW_"
   ]
  },
  {
   "cell_type": "code",
   "execution_count": 58,
   "metadata": {},
   "outputs": [
    {
     "data": {
      "text/plain": [
       "tensor([[[ 0,  0,  0,  0,  0],\n",
       "         [ 0,  1,  1,  1,  1],\n",
       "         [ 0,  1,  5,  5,  5],\n",
       "         [ 0,  1,  5, 14, 14],\n",
       "         [ 0,  1,  5, 14, 30]],\n",
       "\n",
       "        [[ 0,  0,  0,  0,  0],\n",
       "         [ 0,  1,  1,  1,  1],\n",
       "         [ 0,  1,  5,  5,  5],\n",
       "         [ 0,  1,  5, 14, 14],\n",
       "         [ 0,  1,  5, 14, 30]]])"
      ]
     },
     "execution_count": 58,
     "metadata": {},
     "output_type": "execute_result"
    }
   ],
   "source": [
    "torch.bmm(QW_, torch.transpose(KW_, 1, 2))"
   ]
  },
  {
   "cell_type": "code",
   "execution_count": 59,
   "metadata": {},
   "outputs": [],
   "source": [
    "def scaled_dot_product_attention(KW, QW, VW, scale_factor, masked=False):\n",
    "    \"\"\"\n",
    "    \n",
    "    (self attention)\n",
    "    Input X -> embedding ->  Q, K, V (QW, KW, VW) -> score from Q・K -> softmax -> multiply V -> attention score for each word\n",
    "    \n",
    "    params:\n",
    "        - KW (batch, dmodel, dmodel)  # Keys (eocoded inputs)\n",
    "        - QW (batch, dmodel, dmodel)  # Queries (decode states)\n",
    "        - VW (batch, dmodel, dmodel)  # Values (encoded inputs)\n",
    "        - scale_factor (float)  # normalization scale factor\n",
    "        - masked (bool)  # mask out values which correspond to illegal connections to prevent leftward information flow\n",
    "        \n",
    "    returns:\n",
    "        - attention_weights (batch, dv, dmodel)\n",
    "    \"\"\"\n",
    "    print('scaled dot product attention')\n",
    "    print(f'KW {KW.shape}')\n",
    "    print(f'QW {QW.shape}')\n",
    "    print(f'VW {VW.shape}')\n",
    "    softmax = torch.nn.Softmax()\n",
    "    \n",
    "    if masked:\n",
    "        print(f'mask QW and KW by lower triangular elements')\n",
    "        QW = torch.tril(QW)\n",
    "        KW = torch.tril(KW)\n",
    "    \n",
    "    # The attention score is calculated by taking the dot product of\n",
    "    # the query vector with the key vector of the respective word we're scoring.\n",
    "    QW_KW = torch.bmm(QW, torch.transpose(KW, 1, 2))\n",
    "    # divide the scores by 8 (the square root of the dimension of the key vectors (=dk))\n",
    "    # This softmax score determines how much how much each word will be expressed at this position.\n",
    "    attention_weight = softmax(QW_KW*scale_factor)\n",
    "    # to multiply each value vector by the softmax score\n",
    "    attention_out = torch.bmm(attention_weight, VW)\n",
    "    return attention_out"
   ]
  },
  {
   "cell_type": "code",
   "execution_count": 60,
   "metadata": {},
   "outputs": [],
   "source": [
    "def multi_head_attention(KW, QW, VW, h, scale_factor, masked=False):\n",
    "    \"\"\"\n",
    "    params:\n",
    "        - KW (batch, dmodel, dmodel)  # Keys (eocoded inputs)\n",
    "        - QW (batch, dmodel, dmodel)  # Queries (decode states)\n",
    "        - VW (batch, dmodel, dmodel)  # Values (encoded inputs)\n",
    "        - h (n parallel)\n",
    "        - scale_factor (float)  # normalization scale factor\n",
    "        - masked (bool)  # mask out values which correspond to illegal connections to prevent leftward information flow\n",
    "    \"\"\"\n",
    "    dmodel = KW.shape[2]  # embed size\n",
    "    step = int(dmodel/h)\n",
    "    Wo = torch.nn.Linear(dmodel, dmodel)\n",
    "    print(f'QW {QW.shape}')\n",
    "    print(f'n parallel {h}')\n",
    "    print(f'total_size/n_parallel {step}')\n",
    "    print(f'QWi {QW[:, 1*step:1*step+step, :].shape}')\n",
    "    print(f'KWi {KW[:, 1*step:1*step+step, :].shape}')\n",
    "    print(f'VWi {VW[:, 1*step:1*step+step, :].shape}')\n",
    "    print(f'trying to culculate dot product attention for {h} heads. scale factor is {scale_factor}.')\n",
    "    heads = [scaled_dot_product_attention(\n",
    "        QW[:, i*step:(i+1)*step, :], KW[:, i*step:(i+1)*step, :], VW[:, i*step:(i+1)*step, :], scale_factor, masked) for i in range(h)]\n",
    "    print(f'{len(heads)} heads {heads} as each shape {heads[0].shape}')\n",
    "    out = Wo(torch.cat(heads, dim=1).transpose(1,2))\n",
    "    print(f'product of Wo and heads out {out} as the shape {out.shape}')\n",
    "    return out, KW"
   ]
  },
  {
   "cell_type": "code",
   "execution_count": 61,
   "metadata": {
    "scrolled": false
   },
   "outputs": [
    {
     "name": "stdout",
     "output_type": "stream",
     "text": [
      "scaled dot product attention\n",
      "KW torch.Size([3, 512, 512])\n",
      "QW torch.Size([3, 512, 512])\n",
      "VW torch.Size([3, 512, 512])\n",
      "mask QW and KW by lower triangular elements\n"
     ]
    },
    {
     "name": "stderr",
     "output_type": "stream",
     "text": [
      "/anaconda3/envs/core/lib/python3.7/site-packages/ipykernel_launcher.py:33: UserWarning: Implicit dimension choice for softmax has been deprecated. Change the call to include dim=X as an argument.\n"
     ]
    },
    {
     "data": {
      "text/plain": [
       "tensor([[[ 11.8445,   1.0957,  -5.2410,  ...,   6.1483,  -2.6584,  15.5069],\n",
       "         [ 12.0965,   1.0185,  -5.2214,  ...,   6.2007,  -3.1737,  15.1656],\n",
       "         [ 12.1386,   1.0540,  -5.6894,  ...,   6.2538,  -3.4175,  15.4748],\n",
       "         ...,\n",
       "         [ 16.1744,  -1.2700, -14.4356,  ...,   1.2006,  -1.1245,  15.2626],\n",
       "         [ 10.0477,   0.4497,  -4.7897,  ...,   5.5894,  -9.2669,  14.2776],\n",
       "         [  0.7786,   6.1671,  -0.6797,  ...,  17.2306,  -2.3401,  19.6524]],\n",
       "\n",
       "        [[ 10.9195,   1.5816,  -4.9369,  ...,   9.4158,   0.6792,  10.7825],\n",
       "         [ 10.1144,   2.5039,  -5.7722,  ...,  10.4296,   0.6600,  11.3775],\n",
       "         [ 10.2192,   3.0448,  -6.2053,  ...,  10.3331,   1.0563,  11.1993],\n",
       "         ...,\n",
       "         [  9.5758,   2.5379, -17.8812,  ...,   9.3886,   0.6589,  13.0521],\n",
       "         [  9.0573,   2.7580,   6.0901,  ...,  11.2954,   5.4522,  10.4008],\n",
       "         [  4.3694,  -1.2481, -11.9476,  ...,  12.3237,   2.7536,  11.0149]],\n",
       "\n",
       "        [[ 19.1313,   0.7054,  -7.2675,  ...,   8.8143, -17.6455,  14.9502],\n",
       "         [ 18.3269,   0.9065,  -6.6687,  ...,   7.7098, -16.2744,  14.4292],\n",
       "         [ 18.3503,   0.7665,  -6.4624,  ...,   7.5809, -16.0711,  14.4329],\n",
       "         ...,\n",
       "         [ 22.2034,   1.9913,  -2.8035,  ...,   8.9136, -13.2226,  13.9688],\n",
       "         [ 19.9212,  -2.3419,  -5.5574,  ...,  10.1103, -17.0328,  13.1115],\n",
       "         [ 23.2658,   1.9830,  -7.5644,  ...,  10.0478, -19.7832,   9.6626]]],\n",
       "       grad_fn=<BmmBackward>)"
      ]
     },
     "execution_count": 61,
     "metadata": {},
     "output_type": "execute_result"
    }
   ],
   "source": [
    "scaled_dot_product_attention(KW, QW, VW, scale_factor, masked=True)"
   ]
  },
  {
   "cell_type": "code",
   "execution_count": 62,
   "metadata": {
    "scrolled": false
   },
   "outputs": [
    {
     "name": "stdout",
     "output_type": "stream",
     "text": [
      "QW torch.Size([3, 512, 512])\n",
      "n parallel 4\n",
      "total_size/n_parallel 128\n",
      "QWi torch.Size([3, 128, 512])\n",
      "KWi torch.Size([3, 128, 512])\n",
      "VWi torch.Size([3, 128, 512])\n",
      "trying to culculate dot product attention for 4 heads. scale factor is 0.08838834764831843.\n",
      "scaled dot product attention\n",
      "KW torch.Size([3, 128, 512])\n",
      "QW torch.Size([3, 128, 512])\n",
      "VW torch.Size([3, 128, 512])\n",
      "mask QW and KW by lower triangular elements\n",
      "scaled dot product attention\n",
      "KW torch.Size([3, 128, 512])\n",
      "QW torch.Size([3, 128, 512])\n",
      "VW torch.Size([3, 128, 512])\n",
      "mask QW and KW by lower triangular elements\n",
      "scaled dot product attention\n",
      "KW torch.Size([3, 128, 512])\n",
      "QW torch.Size([3, 128, 512])\n",
      "VW torch.Size([3, 128, 512])\n",
      "mask QW and KW by lower triangular elements\n",
      "scaled dot product attention\n",
      "KW torch.Size([3, 128, 512])\n",
      "QW torch.Size([3, 128, 512])\n",
      "VW torch.Size([3, 128, 512])\n",
      "mask QW and KW by lower triangular elements\n",
      "4 heads [tensor([[[ 2.0687,  1.1884,  2.1781,  ...,  1.0561,  1.1808,  4.7958],\n",
      "         [ 2.0544,  1.1113,  2.0538,  ...,  0.9135,  1.1766,  4.7437],\n",
      "         [ 2.1307,  1.0122,  2.0467,  ...,  0.7785,  1.2556,  4.7186],\n",
      "         ...,\n",
      "         [ 2.1043,  1.3449,  2.0292,  ...,  0.2626,  0.8913,  5.1538],\n",
      "         [ 2.2864,  0.8932,  1.0918,  ...,  0.5137,  0.3334,  5.5581],\n",
      "         [ 2.3896,  0.4473,  1.4934,  ...,  0.6913,  1.7852,  4.9468]],\n",
      "\n",
      "        [[ 2.9864,  4.0228, -2.0765,  ...,  0.6559, -0.9663,  2.4310],\n",
      "         [ 2.9625,  3.9839, -2.1604,  ...,  0.6150, -0.8163,  2.3542],\n",
      "         [ 2.9786,  3.9976, -2.1031,  ...,  0.6155, -0.8572,  2.3598],\n",
      "         ...,\n",
      "         [ 3.3843,  4.2865, -1.9570,  ...,  0.2891, -1.3462,  1.8501],\n",
      "         [ 3.3244,  3.5072, -1.7380,  ...,  0.7875, -1.4395,  2.0736],\n",
      "         [ 3.7229,  4.0850, -1.6748,  ...,  1.1387, -0.9098,  2.2880]],\n",
      "\n",
      "        [[ 6.1307, -0.7307,  0.4752,  ..., -0.7503, -2.9567,  5.0269],\n",
      "         [ 6.3182, -0.6194,  0.7017,  ..., -0.6779, -2.9105,  4.9096],\n",
      "         [ 6.4970, -0.5528,  0.6816,  ..., -0.6329, -2.9957,  4.9154],\n",
      "         ...,\n",
      "         [ 6.6292, -1.3860,  0.7827,  ...,  0.0485, -3.3344,  4.6464],\n",
      "         [ 6.2144, -1.1391,  1.2621,  ..., -0.4165, -3.0193,  5.2390],\n",
      "         [ 5.9821, -0.0612,  0.0904,  ..., -0.5266, -3.9080,  5.0966]]],\n",
      "       grad_fn=<BmmBackward>), tensor([[[ 1.7348,  2.5516, -4.0045,  ...,  3.9110, -3.7885,  8.9292],\n",
      "         [ 1.5770,  2.5405, -3.6552,  ...,  4.0341, -4.1268,  9.1635],\n",
      "         [ 1.6492,  2.5868, -3.8029,  ...,  3.9259, -4.0369,  9.1075],\n",
      "         ...,\n",
      "         [ 2.0773,  2.6953, -4.5243,  ...,  4.0270, -3.6040,  9.7830],\n",
      "         [ 2.0175,  1.9677, -5.2139,  ...,  3.6016, -4.2974,  9.8558],\n",
      "         [ 1.0141,  2.4730, -2.8904,  ...,  2.5988, -3.4971,  8.3729]],\n",
      "\n",
      "        [[ 4.5201,  2.5280, -0.8867,  ...,  1.3979, -0.2543, -0.7536],\n",
      "         [ 4.3944,  2.4906, -0.8732,  ...,  1.4148, -0.1285, -0.8532],\n",
      "         [ 4.4263,  2.4203, -0.9772,  ...,  1.3958, -0.1749, -0.8144],\n",
      "         ...,\n",
      "         [ 4.3261,  2.7351, -1.6187,  ...,  1.5083,  0.0799, -0.6347],\n",
      "         [ 4.3125,  2.4545, -2.1070,  ...,  2.4157, -0.6197, -1.0897],\n",
      "         [ 4.8343,  2.8216, -2.0270,  ...,  1.6974, -1.8122,  0.0719]],\n",
      "\n",
      "        [[ 4.7437, -0.4388, -3.3900,  ...,  2.3121, -0.9890,  3.9777],\n",
      "         [ 5.2537, -0.3183, -3.1858,  ...,  2.9105, -1.2061,  3.9807],\n",
      "         [ 4.7574, -0.3318, -3.4628,  ...,  2.2361, -1.0121,  3.8701],\n",
      "         ...,\n",
      "         [ 4.1928, -0.0333, -4.5934,  ...,  2.0070, -0.9784,  3.5298],\n",
      "         [ 4.3076,  0.4273, -3.4269,  ...,  1.7325, -1.2946,  3.1738],\n",
      "         [ 2.3926, -1.6156, -3.1508,  ...,  2.0763, -0.9013,  4.1421]]],\n",
      "       grad_fn=<BmmBackward>), tensor([[[-0.3603, -1.8159, -1.4820,  ...,  2.1139,  0.1691,  3.1310],\n",
      "         [-0.4043, -1.6416, -1.4226,  ...,  2.0464,  0.1500,  3.3076],\n",
      "         [-0.4096, -1.6597, -1.4594,  ...,  2.1720,  0.2604,  3.2050],\n",
      "         ...,\n",
      "         [-0.2569, -2.5542, -1.2999,  ...,  0.8399, -0.2785,  3.2514],\n",
      "         [-0.2524, -0.3814, -1.5525,  ...,  2.0155, -0.0327,  3.8340],\n",
      "         [-0.0475, -1.2970, -1.7794,  ...,  1.7142,  0.8513,  3.1824]],\n",
      "\n",
      "        [[ 2.5754, -1.6885,  0.1174,  ...,  3.5299,  0.4711,  3.7315],\n",
      "         [ 2.5100, -1.7288,  0.2490,  ...,  3.4873,  0.5338,  3.7161],\n",
      "         [ 2.5734, -1.7374,  0.1837,  ...,  3.5258,  0.5292,  3.7331],\n",
      "         ...,\n",
      "         [ 1.9918, -2.0448,  0.0483,  ...,  3.4630, -0.1523,  3.7248],\n",
      "         [ 2.7037, -2.4020,  2.0008,  ...,  3.3533,  1.1492,  3.7942],\n",
      "         [ 2.5365, -0.1974,  0.2172,  ...,  2.4452, -0.4597,  3.8887]],\n",
      "\n",
      "        [[ 1.1333,  1.0157, -0.2740,  ...,  1.0290, -3.6051,  2.4158],\n",
      "         [ 1.2354,  1.0833, -0.4018,  ...,  1.0019, -3.7883,  2.5293],\n",
      "         [ 1.0274,  0.9834, -0.3053,  ...,  0.9752, -3.5404,  2.5244],\n",
      "         ...,\n",
      "         [ 0.5611,  1.1691, -0.3980,  ...,  1.0296, -3.7284,  2.2715],\n",
      "         [ 1.8271,  0.2030, -0.6440,  ...,  1.4138, -3.7386,  2.4141],\n",
      "         [ 0.9530,  1.9568,  0.1731,  ...,  0.1582, -3.2042,  2.4824]]],\n",
      "       grad_fn=<BmmBackward>), tensor([[[ 8.5932, -0.8252, -2.1394,  ..., -0.7345, -0.7089, -1.2213],\n",
      "         [ 9.1879, -1.0909, -2.5457,  ..., -0.5907, -0.5193, -1.5688],\n",
      "         [ 8.6951, -0.6131, -2.1971,  ..., -0.6741, -0.7323, -1.2122],\n",
      "         ...,\n",
      "         [ 9.6888, -1.7765, -3.8147,  ..., -1.3553, -0.8344, -1.2849],\n",
      "         [ 8.8851, -0.9116, -2.2395,  ...,  0.0368, -1.2468, -1.2473],\n",
      "         [ 9.6630, -0.2673, -1.4821,  ..., -0.2950, -0.1701, -2.1123]],\n",
      "\n",
      "        [[ 0.1112, -2.7302, -2.9456,  ...,  4.6665,  1.1924,  6.1220],\n",
      "         [ 0.0230, -2.3623, -2.4364,  ...,  4.8398,  1.1304,  6.1002],\n",
      "         [ 0.0171, -2.4669, -2.8228,  ...,  4.8336,  1.1863,  6.0422],\n",
      "         ...,\n",
      "         [ 0.0333, -2.0893, -3.2389,  ...,  5.1737,  0.6552,  6.1645],\n",
      "         [-0.6967, -2.4268, -2.3355,  ...,  3.6386,  1.3299,  7.5766],\n",
      "         [-0.0196, -3.4758, -2.9743,  ...,  4.3388,  1.4092,  5.3656]],\n",
      "\n",
      "        [[ 6.5966,  0.8459, -3.6574,  ...,  5.5054, -8.8039,  3.2516],\n",
      "         [ 6.6569,  0.7722, -3.7500,  ...,  5.5158, -8.9960,  3.3198],\n",
      "         [ 6.3242,  0.7633, -3.5956,  ...,  5.3106, -8.7757,  3.2915],\n",
      "         ...,\n",
      "         [ 6.3290,  1.4959, -3.2369,  ...,  4.4258, -8.2955,  2.0970],\n",
      "         [ 6.9469,  0.7301, -3.9568,  ...,  6.8954, -9.7222,  4.0728],\n",
      "         [ 6.8755,  1.1905, -3.8763,  ...,  5.7516, -8.4512,  2.8585]]],\n",
      "       grad_fn=<BmmBackward>)] as each shape torch.Size([3, 128, 512])\n",
      "product of Wo and heads out tensor([[[-5.8730e+00,  1.0817e+00,  5.0812e-01,  ..., -1.4852e+00,\n",
      "          -2.2149e-02,  5.9768e+00],\n",
      "         [-1.2369e+00, -8.1147e-02, -4.1598e-01,  ..., -1.4628e-01,\n",
      "           1.7756e-02, -9.7674e-01],\n",
      "         [ 3.4958e+00,  3.5365e-01,  2.8850e-01,  ...,  9.7797e-01,\n",
      "          -1.1340e+00, -3.6110e+00],\n",
      "         ...,\n",
      "         [-3.4869e+00,  7.4905e-01,  1.4881e-01,  ..., -7.7172e-01,\n",
      "           6.8128e-03,  4.8516e-01],\n",
      "         [ 2.5044e+00,  3.9456e-01,  8.6166e-01,  ...,  5.2887e-01,\n",
      "          -9.4347e-01, -1.6756e+00],\n",
      "         [-6.9424e+00,  1.5426e+00,  6.8363e-01,  ..., -3.9849e+00,\n",
      "          -1.7819e-01,  4.4608e-01]],\n",
      "\n",
      "        [[-4.0134e+00,  1.4264e+00,  1.0465e+00,  ..., -2.1809e+00,\n",
      "          -6.3044e-01,  5.4174e-01],\n",
      "         [-1.2484e+00,  5.9118e-02,  7.2162e-01,  ..., -5.9394e-01,\n",
      "          -1.0276e+00, -2.1472e+00],\n",
      "         [ 2.2093e+00,  2.0239e-01, -1.3619e-01,  ...,  6.6411e-01,\n",
      "           3.9644e-01, -1.2071e+00],\n",
      "         ...,\n",
      "         [-4.1657e+00,  1.1384e+00,  7.5012e-01,  ..., -2.2162e+00,\n",
      "           8.2633e-01,  4.3508e+00],\n",
      "         [-4.8669e-01,  6.6551e-01, -1.1407e-01,  ..., -1.1619e-01,\n",
      "           8.0432e-01,  1.3605e+00],\n",
      "         [-3.7675e+00,  1.8354e+00,  1.2881e+00,  ..., -2.2095e+00,\n",
      "           3.2897e-02,  4.7543e+00]],\n",
      "\n",
      "        [[-8.6494e+00,  2.9896e+00,  2.0451e+00,  ..., -3.5656e+00,\n",
      "           1.7451e-01,  4.4061e+00],\n",
      "         [-6.4206e-01,  5.6219e-02,  9.9272e-02,  ..., -6.9229e-01,\n",
      "           4.9797e-01,  1.4205e+00],\n",
      "         [ 3.8327e+00, -7.6062e-02,  8.5192e-01,  ...,  1.0248e+00,\n",
      "          -1.5059e+00, -4.0481e+00],\n",
      "         ...,\n",
      "         [-4.1930e+00,  2.2856e-01, -1.4915e-01,  ..., -5.5280e-01,\n",
      "           4.7355e-01,  5.2585e+00],\n",
      "         [ 6.4675e+00, -2.2700e+00, -1.0898e+00,  ...,  2.8790e+00,\n",
      "           2.1359e-02, -6.8045e+00],\n",
      "         [-5.7946e+00,  2.5191e+00,  1.8040e+00,  ..., -2.2841e+00,\n",
      "          -4.6580e-01,  2.5844e+00]]], grad_fn=<AddBackward0>) as the shape torch.Size([3, 512, 512])\n"
     ]
    },
    {
     "name": "stderr",
     "output_type": "stream",
     "text": [
      "/anaconda3/envs/core/lib/python3.7/site-packages/ipykernel_launcher.py:33: UserWarning: Implicit dimension choice for softmax has been deprecated. Change the call to include dim=X as an argument.\n"
     ]
    },
    {
     "data": {
      "text/plain": [
       "(tensor([[[-5.8730e+00,  1.0817e+00,  5.0812e-01,  ..., -1.4852e+00,\n",
       "           -2.2149e-02,  5.9768e+00],\n",
       "          [-1.2369e+00, -8.1147e-02, -4.1598e-01,  ..., -1.4628e-01,\n",
       "            1.7756e-02, -9.7674e-01],\n",
       "          [ 3.4958e+00,  3.5365e-01,  2.8850e-01,  ...,  9.7797e-01,\n",
       "           -1.1340e+00, -3.6110e+00],\n",
       "          ...,\n",
       "          [-3.4869e+00,  7.4905e-01,  1.4881e-01,  ..., -7.7172e-01,\n",
       "            6.8128e-03,  4.8516e-01],\n",
       "          [ 2.5044e+00,  3.9456e-01,  8.6166e-01,  ...,  5.2887e-01,\n",
       "           -9.4347e-01, -1.6756e+00],\n",
       "          [-6.9424e+00,  1.5426e+00,  6.8363e-01,  ..., -3.9849e+00,\n",
       "           -1.7819e-01,  4.4608e-01]],\n",
       " \n",
       "         [[-4.0134e+00,  1.4264e+00,  1.0465e+00,  ..., -2.1809e+00,\n",
       "           -6.3044e-01,  5.4174e-01],\n",
       "          [-1.2484e+00,  5.9118e-02,  7.2162e-01,  ..., -5.9394e-01,\n",
       "           -1.0276e+00, -2.1472e+00],\n",
       "          [ 2.2093e+00,  2.0239e-01, -1.3619e-01,  ...,  6.6411e-01,\n",
       "            3.9644e-01, -1.2071e+00],\n",
       "          ...,\n",
       "          [-4.1657e+00,  1.1384e+00,  7.5012e-01,  ..., -2.2162e+00,\n",
       "            8.2633e-01,  4.3508e+00],\n",
       "          [-4.8669e-01,  6.6551e-01, -1.1407e-01,  ..., -1.1619e-01,\n",
       "            8.0432e-01,  1.3605e+00],\n",
       "          [-3.7675e+00,  1.8354e+00,  1.2881e+00,  ..., -2.2095e+00,\n",
       "            3.2897e-02,  4.7543e+00]],\n",
       " \n",
       "         [[-8.6494e+00,  2.9896e+00,  2.0451e+00,  ..., -3.5656e+00,\n",
       "            1.7451e-01,  4.4061e+00],\n",
       "          [-6.4206e-01,  5.6219e-02,  9.9272e-02,  ..., -6.9229e-01,\n",
       "            4.9797e-01,  1.4205e+00],\n",
       "          [ 3.8327e+00, -7.6062e-02,  8.5192e-01,  ...,  1.0248e+00,\n",
       "           -1.5059e+00, -4.0481e+00],\n",
       "          ...,\n",
       "          [-4.1930e+00,  2.2856e-01, -1.4915e-01,  ..., -5.5280e-01,\n",
       "            4.7355e-01,  5.2585e+00],\n",
       "          [ 6.4675e+00, -2.2700e+00, -1.0898e+00,  ...,  2.8790e+00,\n",
       "            2.1359e-02, -6.8045e+00],\n",
       "          [-5.7946e+00,  2.5191e+00,  1.8040e+00,  ..., -2.2841e+00,\n",
       "           -4.6580e-01,  2.5844e+00]]], grad_fn=<AddBackward0>),\n",
       " tensor([[[ 0.7358,  1.8986,  0.0612,  ..., -0.1299, -0.4983,  0.4923],\n",
       "          [ 0.1564, -0.4395, -0.0055,  ...,  0.6331, -0.5972, -0.1621],\n",
       "          [ 0.2808,  0.1255,  0.3173,  ...,  0.2219,  0.4243, -0.6503],\n",
       "          ...,\n",
       "          [-0.6407,  0.2796,  1.3205,  ..., -0.1351,  0.3159, -0.2001],\n",
       "          [ 0.2868, -0.2009, -0.0386,  ..., -0.0535,  0.1240,  1.0308],\n",
       "          [ 0.2851, -0.1679, -0.7896,  ..., -0.6584,  1.2672, -0.6007]],\n",
       " \n",
       "         [[ 0.7861, -0.2591, -0.4151,  ...,  0.2505, -0.7281, -0.6631],\n",
       "          [ 0.3408,  1.0551,  0.2856,  ..., -0.5497, -0.9357, -0.0398],\n",
       "          [ 0.4685,  0.6164,  0.2567,  ...,  0.3392,  0.6272, -0.2977],\n",
       "          ...,\n",
       "          [-0.3207, -0.6225, -0.5149,  ..., -0.7913, -0.3771,  0.9342],\n",
       "          [ 0.2907,  1.0126,  0.4164,  ...,  0.3141, -0.0913, -0.9180],\n",
       "          [-1.1887, -0.4700, -0.2207,  ...,  0.1560, -0.6632, -0.1993]],\n",
       " \n",
       "         [[ 0.3149,  0.7316,  0.0546,  ...,  0.3191, -0.3668, -1.4740],\n",
       "          [ 1.1631, -0.9920,  0.1107,  ...,  0.3373,  0.2382,  0.3032],\n",
       "          [ 0.5660, -0.9519, -0.4074,  ...,  1.0394, -0.1508,  0.9327],\n",
       "          ...,\n",
       "          [ 0.2495, -0.6429, -0.3968,  ..., -0.2285,  1.6104,  0.0389],\n",
       "          [ 0.9636,  0.0657,  0.4659,  ...,  0.3146, -0.6729, -0.6473],\n",
       "          [ 0.0948, -0.3586,  0.0227,  ..., -0.1108,  0.1661,  0.9395]]],\n",
       "        grad_fn=<AddBackward0>))"
      ]
     },
     "execution_count": 62,
     "metadata": {},
     "output_type": "execute_result"
    }
   ],
   "source": [
    "multi_head_attention(KW, QW, VW, h, scale_factor, masked=True)"
   ]
  },
  {
   "cell_type": "markdown",
   "metadata": {},
   "source": [
    "#### Decoder (Masked Multi-Head Attention + Norm + Multi-Head Attention + Norm + Feed Forward + Norm)"
   ]
  },
  {
   "cell_type": "code",
   "execution_count": 63,
   "metadata": {},
   "outputs": [],
   "source": [
    "def decoder(prev, Qenc, Venc, h=8):\n",
    "    \"\"\"\n",
    "    params:\n",
    "        - prev (batch, dmodel, dmodel)  # previous output (encoded)\n",
    "        - Q (batch, outlen(=dv), dmodel)  # Queries (decode states)\n",
    "        - V (batch, inlen(=dk), dmodel)  # Values (encoded inputs)\n",
    "        - encout (batch, dmodel, dmodel)  # Encoder out of same index in N (attention)\n",
    "        - h (n parallel)\n",
    "    \"\"\"\n",
    "    \n",
    "    batch_size = K.shape[0]\n",
    "    print(f'batch size {batch_size}')\n",
    "    \n",
    "    norm1 = torch.nn.BatchNorm1d(num_features=batch_size)\n",
    "    norm2 = torch.nn.BatchNorm1d(num_features=batch_size)\n",
    "    norm3 = torch.nn.BatchNorm1d(num_features=batch_size)\n",
    "    feedforward = torch.nn.Linear(in_features=dmodel, out_features=dmodel)\n",
    "    \n",
    "    print(f'masked multi head attention')\n",
    "    attention, KW = multi_head_attention(K, Q, V, h, masked=True)\n",
    "    \n",
    "    print(f'res 1 [attention out + KW]')\n",
    "    resout = attention + KW\n",
    "    print(f'res 1 out shape {resout.shape}')\n",
    "    \n",
    "    print(f'norm 1')\n",
    "    norm1out = norm1(resout.transpose(1, 0)).transpose(0, 1) \n",
    "    print(f'norm 1 out shape {norm1out.shape}')\n",
    "    \n",
    "    multi_head_attention(encout)\n",
    "    \n",
    "    print(f'feedforward')\n",
    "    ffout = feedforward(norm1out)\n",
    "    print(f'res 2 [feedforward out + norm 1 out]')\n",
    "    ffresout = attention + ffout\n",
    "    print(f'res 2 out shape {ffresout.shape}')\n",
    "    \n",
    "    print(f'norm 2')\n",
    "    norm2out = norm2(ffresout.transpose(0, 1)).transpose(0, 1)\n",
    "    print(f'norm 2 out shape {norm2out.shape}')\n",
    "    \n",
    "    out = norm2out\n",
    "    print(f'encoder out shape {out.shape}')\n",
    "    \n",
    "    return out"
   ]
  },
  {
   "cell_type": "code",
   "execution_count": 64,
   "metadata": {},
   "outputs": [
    {
     "name": "stdout",
     "output_type": "stream",
     "text": [
      "input sequence X : torch.Size([3, 128]) (batchsize, seqlen)\n",
      "embedding for input sequence : vocab size 100 embed(=hidden) size 512\n",
      "encoded input sequence X:torch.Size([3, 128]) to K:torch.Size([3, 128, 512]), V:torch.Size([3, 128, 512])\n",
      "calculate scale factor by 1 / math.sqrt(128) = 0.08838834764831843\n",
      "project K(torch.Size([3, 128, 512])), Q(torch.Size([3, 128, 512])), V(torch.Size([3, 128, 512])) -> KW(torch.Size([3, 512, 512])), QW(torch.Size([3, 512, 512])), VW(torch.Size([3, 512, 512]))\n",
      "scaled dot product attention\n",
      "KW torch.Size([3, 128, 512])\n",
      "QW torch.Size([3, 128, 512])\n",
      "VW torch.Size([3, 128, 512])\n"
     ]
    },
    {
     "name": "stderr",
     "output_type": "stream",
     "text": [
      "/anaconda3/envs/core/lib/python3.7/site-packages/ipykernel_launcher.py:33: UserWarning: Implicit dimension choice for softmax has been deprecated. Change the call to include dim=X as an argument.\n"
     ]
    },
    {
     "data": {
      "text/plain": [
       "tensor([[[ -1.8404,  -5.6976,  -4.3728,  ...,  -4.8565,   8.7937,   5.3012],\n",
       "         [ -3.2471,  -2.9490, -10.2560,  ...,  -6.1002,  -1.5024,  12.7603],\n",
       "         [  0.7199,  -2.7929, -12.5043,  ...,  -3.0116,   4.0071,   9.1056],\n",
       "         ...,\n",
       "         [  5.9821,  -2.9363,  -8.0924,  ...,  -9.8883,   2.1438,   8.5527],\n",
       "         [  4.1499,  -5.2039,  -4.9910,  ...,  -5.8233,  -4.5397,  14.5310],\n",
       "         [ 10.6920,  -1.1182,  -2.1221,  ...,  -3.0960,   6.4242,  12.2320]],\n",
       "\n",
       "        [[  5.8099,   4.2803, -12.7447,  ...,  -3.6767,   5.6528,  -0.9873],\n",
       "         [ -5.7277,   2.8795, -10.6245,  ...,  -4.6953,   4.2402,   9.0515],\n",
       "         [ -4.7892,  -7.9016,  -7.6386,  ...,  -6.5518,  -0.3822,  15.6207],\n",
       "         ...,\n",
       "         [-14.5887,  -7.6355,  -8.7063,  ...,  -8.9702,   3.2729,  15.7989],\n",
       "         [-10.9373,  -3.3529,  -7.8674,  ...,  -8.5620,   3.4671,  22.1279],\n",
       "         [ -1.8404,   2.3271,  -7.6976,  ...,  -6.1190,   3.0440,   8.9803]],\n",
       "\n",
       "        [[ -3.8187,   1.1584,  -4.3463,  ...,  -2.4027,  -7.4846,  -7.0173],\n",
       "         [ -2.4616,   1.6825,  -8.3432,  ...,   4.6147,  -9.4756,  -0.0293],\n",
       "         [  3.3647,  -2.2791,  -6.1320,  ..., -16.2966,  -4.5777,  -0.6981],\n",
       "         ...,\n",
       "         [ -1.7282,  -2.0117,  -9.5216,  ...,   2.5331,  -7.2954,  -4.2399],\n",
       "         [-11.4123,  -3.3484, -16.3375,  ...,  -8.5405,  -9.5981,   1.8469],\n",
       "         [-12.0190,  -0.2164, -13.4772,  ...,   0.0950,  -3.1284,   8.4270]]],\n",
       "       grad_fn=<BmmBackward>)"
      ]
     },
     "execution_count": 64,
     "metadata": {},
     "output_type": "execute_result"
    }
   ],
   "source": [
    "K, Q, V = embedding(X, vocab_size, dmodel)\n",
    "dk = K.shape[1]\n",
    "scale_factor = calc_scale_factor(dk)\n",
    "KW, QW, VW = projection(K, Q, V)\n",
    "scaled_dot_product_attention(K, Q, V, scale_factor)"
   ]
  },
  {
   "cell_type": "code",
   "execution_count": null,
   "metadata": {},
   "outputs": [],
   "source": []
  }
 ],
 "metadata": {
  "kernelspec": {
   "display_name": "Python 3",
   "language": "python",
   "name": "python3"
  },
  "language_info": {
   "codemirror_mode": {
    "name": "ipython",
    "version": 3
   },
   "file_extension": ".py",
   "mimetype": "text/x-python",
   "name": "python",
   "nbconvert_exporter": "python",
   "pygments_lexer": "ipython3",
   "version": "3.7.2"
  }
 },
 "nbformat": 4,
 "nbformat_minor": 2
}
